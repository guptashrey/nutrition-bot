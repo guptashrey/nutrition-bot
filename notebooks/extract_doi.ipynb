{
 "cells": [
  {
   "cell_type": "code",
   "execution_count": 1,
   "metadata": {},
   "outputs": [
    {
     "name": "stderr",
     "output_type": "stream",
     "text": [
      "/Users/wuyilun/opt/anaconda3/envs/aipi540/lib/python3.9/site-packages/requests/__init__.py:102: RequestsDependencyWarning: urllib3 (1.26.7) or chardet (5.1.0)/charset_normalizer (2.0.8) doesn't match a supported version!\n",
      "  warnings.warn(\"urllib3 ({}) or chardet ({})/charset_normalizer ({}) doesn't match a supported \"\n"
     ]
    }
   ],
   "source": [
    "from pymed import PubMed\n",
    "import json"
   ]
  },
  {
   "cell_type": "code",
   "execution_count": 2,
   "metadata": {},
   "outputs": [],
   "source": [
    "pubmed = PubMed(tool=\"MyTool\", email=\"my@email.address\")"
   ]
  },
  {
   "cell_type": "code",
   "execution_count": 3,
   "metadata": {},
   "outputs": [],
   "source": [
    "list_of_journals = [\"Critical Reviews in Food Science and Nutrition\",\n",
    "\"The American Journal of Clinical Nutrition\",\n",
    "\"Clinical Nutrition\",\n",
    "\"International Journal of Behavioral Nutrition and Physical Activity\",\n",
    "\"Advances in Nutrition\",\n",
    "\"Molecular Nutrition & Food Research\",\n",
    "\"European Journal of Nutrition\",\n",
    "\"The Journal of Nutrition\",\n",
    "\"Public Health Nutrition\",\n",
    "\"Frontiers in Nutrition\",\n",
    "\"European Journal of Clinical Nutrition\",\n",
    "\"Nutrition\",\n",
    "\"The Journal of Nutritional Biochemistry\",\n",
    "\"Nutrition Reviews\",\n",
    "\"Journal of Pediatric Gastroenterology and Nutrition\",\n",
    "\"Journal of the Academy of Nutrition and Dietetics\",\n",
    "\"British Journal of Nutrition\",\n",
    "\"Nutrition, Metabolism and Cardiovascular Diseases\",\n",
    "\"Maternal & Child Nutrition\",\n",
    "\"Food Science & Nutrition\"]"
   ]
  },
  {
   "cell_type": "code",
   "execution_count": 4,
   "metadata": {},
   "outputs": [
    {
     "name": "stdout",
     "output_type": "stream",
     "text": [
      "Critical Reviews in Food Science and Nutrition\n",
      "exception: The American Journal of Clinical Nutrition\n",
      "exception: Clinical Nutrition\n",
      "International Journal of Behavioral Nutrition and Physical Activity\n",
      "Advances in Nutrition\n",
      "exception: Molecular Nutrition & Food Research\n",
      "European Journal of Nutrition\n",
      "exception: The Journal of Nutrition\n",
      "exception: Public Health Nutrition\n",
      "Frontiers in Nutrition\n",
      "European Journal of Clinical Nutrition\n",
      "exception: Nutrition\n",
      "The Journal of Nutritional Biochemistry\n",
      "exception: Nutrition Reviews\n",
      "exception: Journal of Pediatric Gastroenterology and Nutrition\n",
      "Journal of the Academy of Nutrition and Dietetics\n",
      "exception: British Journal of Nutrition\n",
      "Nutrition, Metabolism and Cardiovascular Diseases\n",
      "exception: Maternal & Child Nutrition\n",
      "exception: Food Science & Nutrition\n"
     ]
    }
   ],
   "source": [
    "all_results = []\n",
    "for journal in list_of_journals:\n",
    "    try:\n",
    "        all_results.extend(pubmed.query(journal, max_results=10000000)) \n",
    "        print(f\"{journal}\")\n",
    "    except:\n",
    "        all_results.extend(pubmed.query(journal, max_results=9999)) \n",
    "        print(\"exception:\", end=' ')\n",
    "        print(f\"{journal}\")"
   ]
  },
  {
   "cell_type": "code",
   "execution_count": 5,
   "metadata": {},
   "outputs": [
    {
     "name": "stdout",
     "output_type": "stream",
     "text": [
      "145275\n"
     ]
    }
   ],
   "source": [
    "list_results = [i for i in all_results]\n",
    "print(len(list_results))"
   ]
  },
  {
   "cell_type": "code",
   "execution_count": 7,
   "metadata": {},
   "outputs": [],
   "source": [
    "for i in range(len(list_results)): \n",
    "    json.loads(list_results[0].toJSON())[\"doi\"]"
   ]
  },
  {
   "cell_type": "code",
   "execution_count": 8,
   "metadata": {},
   "outputs": [],
   "source": [
    "import pandas as pd"
   ]
  },
  {
   "cell_type": "code",
   "execution_count": 9,
   "metadata": {},
   "outputs": [],
   "source": [
    "df = pd.DataFrame([json.loads(i.toJSON())[\"doi\"] for i in list_results], columns=['doi'])"
   ]
  },
  {
   "cell_type": "code",
   "execution_count": 10,
   "metadata": {},
   "outputs": [
    {
     "data": {
      "text/html": [
       "<div>\n",
       "<style scoped>\n",
       "    .dataframe tbody tr th:only-of-type {\n",
       "        vertical-align: middle;\n",
       "    }\n",
       "\n",
       "    .dataframe tbody tr th {\n",
       "        vertical-align: top;\n",
       "    }\n",
       "\n",
       "    .dataframe thead th {\n",
       "        text-align: right;\n",
       "    }\n",
       "</style>\n",
       "<table border=\"1\" class=\"dataframe\">\n",
       "  <thead>\n",
       "    <tr style=\"text-align: right;\">\n",
       "      <th></th>\n",
       "      <th>doi</th>\n",
       "    </tr>\n",
       "  </thead>\n",
       "  <tbody>\n",
       "    <tr>\n",
       "      <th>0</th>\n",
       "      <td>10.1080/10408398.2023.2188564</td>\n",
       "    </tr>\n",
       "    <tr>\n",
       "      <th>1</th>\n",
       "      <td>10.1080/10408398.2023.2188951</td>\n",
       "    </tr>\n",
       "    <tr>\n",
       "      <th>2</th>\n",
       "      <td>10.1080/10408398.2023.2187622</td>\n",
       "    </tr>\n",
       "    <tr>\n",
       "      <th>3</th>\n",
       "      <td>10.1080/10408398.2023.2186126</td>\n",
       "    </tr>\n",
       "    <tr>\n",
       "      <th>4</th>\n",
       "      <td>10.1080/10408398.2023.2186125</td>\n",
       "    </tr>\n",
       "    <tr>\n",
       "      <th>...</th>\n",
       "      <td>...</td>\n",
       "    </tr>\n",
       "    <tr>\n",
       "      <th>145270</th>\n",
       "      <td>10.3390/nu14132769\\n10.3390/nu13093191\\n10.111...</td>\n",
       "    </tr>\n",
       "    <tr>\n",
       "      <th>145271</th>\n",
       "      <td>10.3390/nu14132768\\n10.13652/j.issn.1003-5788....</td>\n",
       "    </tr>\n",
       "    <tr>\n",
       "      <th>145272</th>\n",
       "      <td>10.3390/nu14132763\\n10.5830/CVJA-2012-040\\n10....</td>\n",
       "    </tr>\n",
       "    <tr>\n",
       "      <th>145273</th>\n",
       "      <td>10.3390/nu14132762\\n10.1056/NEJMoa060357\\n10.1...</td>\n",
       "    </tr>\n",
       "    <tr>\n",
       "      <th>145274</th>\n",
       "      <td>10.1038/nature07995\\n10.1038/s41598-022-06799-...</td>\n",
       "    </tr>\n",
       "  </tbody>\n",
       "</table>\n",
       "<p>145275 rows × 1 columns</p>\n",
       "</div>"
      ],
      "text/plain": [
       "                                                      doi\n",
       "0                           10.1080/10408398.2023.2188564\n",
       "1                           10.1080/10408398.2023.2188951\n",
       "2                           10.1080/10408398.2023.2187622\n",
       "3                           10.1080/10408398.2023.2186126\n",
       "4                           10.1080/10408398.2023.2186125\n",
       "...                                                   ...\n",
       "145270  10.3390/nu14132769\\n10.3390/nu13093191\\n10.111...\n",
       "145271  10.3390/nu14132768\\n10.13652/j.issn.1003-5788....\n",
       "145272  10.3390/nu14132763\\n10.5830/CVJA-2012-040\\n10....\n",
       "145273  10.3390/nu14132762\\n10.1056/NEJMoa060357\\n10.1...\n",
       "145274  10.1038/nature07995\\n10.1038/s41598-022-06799-...\n",
       "\n",
       "[145275 rows x 1 columns]"
      ]
     },
     "execution_count": 10,
     "metadata": {},
     "output_type": "execute_result"
    }
   ],
   "source": [
    "df"
   ]
  },
  {
   "cell_type": "code",
   "execution_count": 11,
   "metadata": {},
   "outputs": [
    {
     "data": {
      "text/html": [
       "<div>\n",
       "<style scoped>\n",
       "    .dataframe tbody tr th:only-of-type {\n",
       "        vertical-align: middle;\n",
       "    }\n",
       "\n",
       "    .dataframe tbody tr th {\n",
       "        vertical-align: top;\n",
       "    }\n",
       "\n",
       "    .dataframe thead th {\n",
       "        text-align: right;\n",
       "    }\n",
       "</style>\n",
       "<table border=\"1\" class=\"dataframe\">\n",
       "  <thead>\n",
       "    <tr style=\"text-align: right;\">\n",
       "      <th></th>\n",
       "      <th>doi</th>\n",
       "    </tr>\n",
       "  </thead>\n",
       "  <tbody>\n",
       "    <tr>\n",
       "      <th>0</th>\n",
       "      <td>10.1080/10408398.2023.2188564</td>\n",
       "    </tr>\n",
       "    <tr>\n",
       "      <th>1</th>\n",
       "      <td>10.1080/10408398.2023.2188951</td>\n",
       "    </tr>\n",
       "    <tr>\n",
       "      <th>2</th>\n",
       "      <td>10.1080/10408398.2023.2187622</td>\n",
       "    </tr>\n",
       "    <tr>\n",
       "      <th>3</th>\n",
       "      <td>10.1080/10408398.2023.2186126</td>\n",
       "    </tr>\n",
       "    <tr>\n",
       "      <th>4</th>\n",
       "      <td>10.1080/10408398.2023.2186125</td>\n",
       "    </tr>\n",
       "    <tr>\n",
       "      <th>...</th>\n",
       "      <td>...</td>\n",
       "    </tr>\n",
       "    <tr>\n",
       "      <th>145270</th>\n",
       "      <td>10.3390/nu14132769\\n10.3390/nu13093191\\n10.111...</td>\n",
       "    </tr>\n",
       "    <tr>\n",
       "      <th>145271</th>\n",
       "      <td>10.3390/nu14132768\\n10.13652/j.issn.1003-5788....</td>\n",
       "    </tr>\n",
       "    <tr>\n",
       "      <th>145272</th>\n",
       "      <td>10.3390/nu14132763\\n10.5830/CVJA-2012-040\\n10....</td>\n",
       "    </tr>\n",
       "    <tr>\n",
       "      <th>145273</th>\n",
       "      <td>10.3390/nu14132762\\n10.1056/NEJMoa060357\\n10.1...</td>\n",
       "    </tr>\n",
       "    <tr>\n",
       "      <th>145274</th>\n",
       "      <td>10.1038/nature07995\\n10.1038/s41598-022-06799-...</td>\n",
       "    </tr>\n",
       "  </tbody>\n",
       "</table>\n",
       "<p>142055 rows × 1 columns</p>\n",
       "</div>"
      ],
      "text/plain": [
       "                                                      doi\n",
       "0                           10.1080/10408398.2023.2188564\n",
       "1                           10.1080/10408398.2023.2188951\n",
       "2                           10.1080/10408398.2023.2187622\n",
       "3                           10.1080/10408398.2023.2186126\n",
       "4                           10.1080/10408398.2023.2186125\n",
       "...                                                   ...\n",
       "145270  10.3390/nu14132769\\n10.3390/nu13093191\\n10.111...\n",
       "145271  10.3390/nu14132768\\n10.13652/j.issn.1003-5788....\n",
       "145272  10.3390/nu14132763\\n10.5830/CVJA-2012-040\\n10....\n",
       "145273  10.3390/nu14132762\\n10.1056/NEJMoa060357\\n10.1...\n",
       "145274  10.1038/nature07995\\n10.1038/s41598-022-06799-...\n",
       "\n",
       "[142055 rows x 1 columns]"
      ]
     },
     "execution_count": 11,
     "metadata": {},
     "output_type": "execute_result"
    }
   ],
   "source": [
    "df[df['doi'].isna() == False]"
   ]
  },
  {
   "cell_type": "code",
   "execution_count": 12,
   "metadata": {},
   "outputs": [],
   "source": [
    "df.to_pickle(\"./doi.pkl\")  "
   ]
  }
 ],
 "metadata": {
  "kernelspec": {
   "display_name": "aipi540",
   "language": "python",
   "name": "python3"
  },
  "language_info": {
   "codemirror_mode": {
    "name": "ipython",
    "version": 3
   },
   "file_extension": ".py",
   "mimetype": "text/x-python",
   "name": "python",
   "nbconvert_exporter": "python",
   "pygments_lexer": "ipython3",
   "version": "3.9.7"
  },
  "orig_nbformat": 4
 },
 "nbformat": 4,
 "nbformat_minor": 2
}
