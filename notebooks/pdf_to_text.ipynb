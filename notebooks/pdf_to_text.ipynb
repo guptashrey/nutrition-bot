{
 "cells": [
  {
   "cell_type": "code",
   "execution_count": 5,
   "metadata": {},
   "outputs": [],
   "source": [
    "from haystack.nodes import PDFToTextConverter\n",
    "from pathlib import Path"
   ]
  },
  {
   "cell_type": "code",
   "execution_count": null,
   "metadata": {},
   "outputs": [],
   "source": [
    "wget --no-check-certificate https://dl.xpdfreader.com/xpdf-tools-linux-4.04.tar.gz\n",
    "tar -xvf xpdf-tools-linux-4.04.tar.gz\n",
    "sudo cp xpdf-tools-linux-4.04/bin64/pdftotext /usr/local/bin"
   ]
  },
  {
   "cell_type": "code",
   "execution_count": 2,
   "metadata": {},
   "outputs": [
    {
     "name": "stderr",
     "output_type": "stream",
     "text": [
      "pdftotext version 4.04 [www.xpdfreader.com]\n",
      "Copyright 1996-2022 Glyph & Cog, LLC\n"
     ]
    }
   ],
   "source": [
    "converter = PDFToTextConverter(\n",
    "    remove_numeric_tables=True,\n",
    "    valid_languages=[\"en\"]\n",
    ")"
   ]
  },
  {
   "cell_type": "code",
   "execution_count": null,
   "metadata": {},
   "outputs": [],
   "source": [
    "converter.convert(file_path=)"
   ]
  },
  {
   "cell_type": "code",
   "execution_count": 7,
   "metadata": {},
   "outputs": [
    {
     "data": {
      "text/plain": [
       "PosixPath('data_nutrition/pdf/impact-of-sourdough-fermentation-on-appetite-and-postprandial-metabolic-responses-a-randomised-cross-over-trial-with-whole-grain-rye-crispbread.pdf')"
      ]
     },
     "execution_count": 7,
     "metadata": {},
     "output_type": "execute_result"
    }
   ],
   "source": [
    "Path(\"./data_nutrition/pdf/impact-of-sourdough-fermentation-on-appetite-and-postprandial-metabolic-responses-a-randomised-cross-over-trial-with-whole-grain-rye-crispbread.pdf\")"
   ]
  },
  {
   "cell_type": "code",
   "execution_count": 8,
   "metadata": {},
   "outputs": [],
   "source": [
    "docs = converter.convert(\n",
    "    file_path=Path(\"./data_nutrition/pdf/impact-of-sourdough-fermentation-on-appetite-and-postprandial-metabolic-responses-a-randomised-cross-over-trial-with-whole-grain-rye-crispbread.pdf\"), \n",
    "    meta=None)"
   ]
  },
  {
   "cell_type": "code",
   "execution_count": 13,
   "metadata": {},
   "outputs": [
    {
     "data": {
      "text/plain": [
       "7673"
      ]
     },
     "execution_count": 13,
     "metadata": {},
     "output_type": "execute_result"
    }
   ],
   "source": [
    "len(docs[0].content.split(\" \"))"
   ]
  },
  {
   "cell_type": "code",
   "execution_count": null,
   "metadata": {},
   "outputs": [],
   "source": [
    "\n",
    "docs = converter.convert(file_path=Path(\"my-file.pdf\"), meta=None)\n",
    "\n",
    "# Alternatively, if you have a PDF containing images, Haystack uses the pytessaract library under the hood for optical character recognition of image PDFs.\n",
    "\n",
    "from haystack.nodes import PDFToTextOCRConverter\n",
    "converter = PDFToTextOCRConverter(\n",
    "    remove_numeric_tables=False,\n",
    "    valid_languages=[\"deu\",\"eng\"]\n",
    ")\n",
    "docs = converter.convert(file_path=Path(\"my-file.pdf\"), meta=None)"
   ]
  }
 ],
 "metadata": {
  "kernelspec": {
   "display_name": "haystack",
   "language": "python",
   "name": "python3"
  },
  "language_info": {
   "codemirror_mode": {
    "name": "ipython",
    "version": 3
   },
   "file_extension": ".py",
   "mimetype": "text/x-python",
   "name": "python",
   "nbconvert_exporter": "python",
   "pygments_lexer": "ipython3",
   "version": "3.8.16"
  },
  "orig_nbformat": 4
 },
 "nbformat": 4,
 "nbformat_minor": 2
}
