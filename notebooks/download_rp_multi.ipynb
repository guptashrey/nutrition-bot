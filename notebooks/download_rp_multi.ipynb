{
 "cells": [
  {
   "cell_type": "code",
   "execution_count": 1,
   "metadata": {},
   "outputs": [],
   "source": [
    "from multiprocessing import Pool\n",
    "import pandas as pd\n",
    "from scidownl import scihub_download\n"
   ]
  },
  {
   "cell_type": "code",
   "execution_count": 4,
   "metadata": {},
   "outputs": [],
   "source": [
    "df_all = pd.read_pickle(\"./data_nutrition/new_df.pickle\")"
   ]
  },
  {
   "cell_type": "code",
   "execution_count": 23,
   "metadata": {},
   "outputs": [],
   "source": [
    "df_new = df_all[:1]"
   ]
  },
  {
   "cell_type": "code",
   "execution_count": 24,
   "metadata": {},
   "outputs": [
    {
     "data": {
      "text/html": [
       "<div>\n",
       "<style scoped>\n",
       "    .dataframe tbody tr th:only-of-type {\n",
       "        vertical-align: middle;\n",
       "    }\n",
       "\n",
       "    .dataframe tbody tr th {\n",
       "        vertical-align: top;\n",
       "    }\n",
       "\n",
       "    .dataframe thead th {\n",
       "        text-align: right;\n",
       "    }\n",
       "</style>\n",
       "<table border=\"1\" class=\"dataframe\">\n",
       "  <thead>\n",
       "    <tr style=\"text-align: right;\">\n",
       "      <th></th>\n",
       "      <th>doi</th>\n",
       "    </tr>\n",
       "  </thead>\n",
       "  <tbody>\n",
       "    <tr>\n",
       "      <th>0</th>\n",
       "      <td>10.1080/10408398.2023.2188564</td>\n",
       "    </tr>\n",
       "  </tbody>\n",
       "</table>\n",
       "</div>"
      ],
      "text/plain": [
       "                             doi\n",
       "0  10.1080/10408398.2023.2188564"
      ]
     },
     "execution_count": 24,
     "metadata": {},
     "output_type": "execute_result"
    }
   ],
   "source": [
    "df_new"
   ]
  },
  {
   "cell_type": "code",
   "execution_count": 25,
   "metadata": {},
   "outputs": [
    {
     "name": "stderr",
     "output_type": "stream",
     "text": [
      "/var/tmp/ipykernel_4147/251877227.py:1: SettingWithCopyWarning: \n",
      "A value is trying to be set on a copy of a slice from a DataFrame.\n",
      "Try using .loc[row_indexer,col_indexer] = value instead\n",
      "\n",
      "See the caveats in the documentation: https://pandas.pydata.org/pandas-docs/stable/user_guide/indexing.html#returning-a-view-versus-a-copy\n",
      "  df_new[0] = \"ghvgv\"\n"
     ]
    }
   ],
   "source": [
    "df_new[0] = \"ghvgv\""
   ]
  },
  {
   "cell_type": "code",
   "execution_count": 3,
   "metadata": {},
   "outputs": [
    {
     "name": "stdout",
     "output_type": "stream",
     "text": [
      "foofoofoo   10 200 20 30\n",
      "10\n",
      "\n",
      "-------------------------curr:0----------------------------\n",
      "doi: -------------------------curr:0----------------------------\n",
      "10.1080/10408398.2023.2184766doi:\n",
      " -------------------------curr:0----------------------------\n",
      "doi: 10.1080/10408398.2023.218131110.1080/10408398.2023.2188564\n",
      "\n"
     ]
    },
    {
     "name": "stderr",
     "output_type": "stream",
     "text": [
      "[INFO] | 2023/03/17 20:41:38 | Found 6 valid SciHub domains in total: ['http://sci-hub.st', 'http://sci-hub.se', 'http://sci-hub.ru', 'https://sci-hub.ru', 'https://sci-hub.st', 'https://sci-hub.se']\n",
      "[INFO] | 2023/03/17 20:41:38 | Saved 6 SciHub domains to local db.\n",
      "[INFO] | 2023/03/17 20:41:38 | Choose scihub url [0]: http://sci-hub.st\n",
      "[INFO] | 2023/03/17 20:41:38 | Found 6 valid SciHub domains in total: ['http://sci-hub.st', 'http://sci-hub.se', 'http://sci-hub.ru', 'https://sci-hub.ru', 'https://sci-hub.st', 'https://sci-hub.se']\n",
      "[INFO] | 2023/03/17 20:41:38 | Saved 6 SciHub domains to local db.\n",
      "[INFO] | 2023/03/17 20:41:38 | Choose scihub url [0]: http://sci-hub.st\n",
      "[INFO] | 2023/03/17 20:41:38 | Found 6 valid SciHub domains in total: ['http://sci-hub.st', 'http://sci-hub.se', 'http://sci-hub.ru', 'https://sci-hub.ru', 'https://sci-hub.st', 'https://sci-hub.se']\n",
      "[INFO] | 2023/03/17 20:41:38 | Saved 6 SciHub domains to local db.\n",
      "[INFO] | 2023/03/17 20:41:38 | Choose scihub url [0]: http://sci-hub.st\n",
      "[INFO] | 2023/03/17 20:41:39 | <- Request: scihub_url=http://sci-hub.st, source=DoiSource[type=doi, id=doi.org/10.1080/10408398.2023.2188564]\n",
      "[INFO] | 2023/03/17 20:41:39 | -> Response: status_code=200, content_length=5838\n",
      "[WARNING] | 2023/03/17 20:41:39 | Error occurs, task status: extracting_failed, error: No pdf tag was found in the given content with the selector: #pdf\n",
      "[INFO] | 2023/03/17 20:41:39 | Choose scihub url [1]: http://sci-hub.se\n",
      "[INFO] | 2023/03/17 20:41:39 | <- Request: scihub_url=http://sci-hub.st, source=DoiSource[type=doi, id=doi.org/10.1080/10408398.2023.2181311]\n",
      "[INFO] | 2023/03/17 20:41:39 | -> Response: status_code=200, content_length=5838\n",
      "[WARNING] | 2023/03/17 20:41:39 | Error occurs, task status: extracting_failed, error: No pdf tag was found in the given content with the selector: #pdf\n",
      "[INFO] | 2023/03/17 20:41:39 | Choose scihub url [1]: http://sci-hub.se\n",
      "[INFO] | 2023/03/17 20:41:39 | <- Request: scihub_url=http://sci-hub.st, source=DoiSource[type=doi, id=doi.org/10.1080/10408398.2023.2184766]\n",
      "[INFO] | 2023/03/17 20:41:39 | -> Response: status_code=200, content_length=5838\n",
      "[WARNING] | 2023/03/17 20:41:39 | Error occurs, task status: extracting_failed, error: No pdf tag was found in the given content with the selector: #pdf\n",
      "[INFO] | 2023/03/17 20:41:39 | Choose scihub url [1]: http://sci-hub.se\n",
      "[INFO] | 2023/03/17 20:41:40 | <- Request: scihub_url=http://sci-hub.se, source=DoiSource[type=doi, id=doi.org/10.1080/10408398.2023.2188564]\n",
      "[INFO] | 2023/03/17 20:41:40 | -> Response: status_code=200, content_length=5838\n",
      "[WARNING] | 2023/03/17 20:41:40 | Error occurs, task status: extracting_failed, error: No pdf tag was found in the given content with the selector: #pdf\n",
      "[INFO] | 2023/03/17 20:41:40 | Choose scihub url [2]: http://sci-hub.ru\n",
      "[INFO] | 2023/03/17 20:41:40 | <- Request: scihub_url=http://sci-hub.se, source=DoiSource[type=doi, id=doi.org/10.1080/10408398.2023.2181311]\n",
      "[INFO] | 2023/03/17 20:41:40 | -> Response: status_code=200, content_length=5838\n",
      "[WARNING] | 2023/03/17 20:41:40 | Error occurs, task status: extracting_failed, error: No pdf tag was found in the given content with the selector: #pdf\n",
      "[INFO] | 2023/03/17 20:41:40 | Choose scihub url [2]: http://sci-hub.ru\n",
      "[INFO] | 2023/03/17 20:41:40 | <- Request: scihub_url=http://sci-hub.se, source=DoiSource[type=doi, id=doi.org/10.1080/10408398.2023.2184766]\n",
      "[INFO] | 2023/03/17 20:41:40 | -> Response: status_code=200, content_length=5838\n",
      "[WARNING] | 2023/03/17 20:41:40 | Error occurs, task status: extracting_failed, error: No pdf tag was found in the given content with the selector: #pdf\n",
      "[INFO] | 2023/03/17 20:41:40 | Choose scihub url [2]: http://sci-hub.ru\n",
      "[INFO] | 2023/03/17 20:41:41 | <- Request: scihub_url=http://sci-hub.ru, source=DoiSource[type=doi, id=doi.org/10.1080/10408398.2023.2188564]\n",
      "[INFO] | 2023/03/17 20:41:41 | -> Response: status_code=200, content_length=5838\n",
      "[WARNING] | 2023/03/17 20:41:41 | Error occurs, task status: extracting_failed, error: No pdf tag was found in the given content with the selector: #pdf\n",
      "[INFO] | 2023/03/17 20:41:41 | Choose scihub url [3]: https://sci-hub.ru\n",
      "[INFO] | 2023/03/17 20:41:41 | <- Request: scihub_url=http://sci-hub.ru, source=DoiSource[type=doi, id=doi.org/10.1080/10408398.2023.2181311]\n",
      "[INFO] | 2023/03/17 20:41:41 | -> Response: status_code=200, content_length=5838\n",
      "[WARNING] | 2023/03/17 20:41:41 | Error occurs, task status: extracting_failed, error: No pdf tag was found in the given content with the selector: #pdf\n",
      "[INFO] | 2023/03/17 20:41:41 | Choose scihub url [3]: https://sci-hub.ru\n",
      "[INFO] | 2023/03/17 20:41:41 | <- Request: scihub_url=http://sci-hub.ru, source=DoiSource[type=doi, id=doi.org/10.1080/10408398.2023.2184766]\n",
      "[INFO] | 2023/03/17 20:41:41 | -> Response: status_code=200, content_length=5838\n",
      "[WARNING] | 2023/03/17 20:41:41 | Error occurs, task status: extracting_failed, error: No pdf tag was found in the given content with the selector: #pdf\n",
      "[INFO] | 2023/03/17 20:41:41 | Choose scihub url [3]: https://sci-hub.ru\n",
      "[INFO] | 2023/03/17 20:41:42 | <- Request: scihub_url=https://sci-hub.ru, source=DoiSource[type=doi, id=doi.org/10.1080/10408398.2023.2188564]\n",
      "[INFO] | 2023/03/17 20:41:42 | -> Response: status_code=200, content_length=5838\n",
      "[WARNING] | 2023/03/17 20:41:42 | Error occurs, task status: extracting_failed, error: No pdf tag was found in the given content with the selector: #pdf\n",
      "[INFO] | 2023/03/17 20:41:42 | Choose scihub url [4]: https://sci-hub.st\n",
      "[INFO] | 2023/03/17 20:41:42 | <- Request: scihub_url=https://sci-hub.ru, source=DoiSource[type=doi, id=doi.org/10.1080/10408398.2023.2181311]\n",
      "[INFO] | 2023/03/17 20:41:42 | -> Response: status_code=200, content_length=5838\n",
      "[WARNING] | 2023/03/17 20:41:42 | Error occurs, task status: extracting_failed, error: No pdf tag was found in the given content with the selector: #pdf\n",
      "[INFO] | 2023/03/17 20:41:42 | Choose scihub url [4]: https://sci-hub.st\n",
      "[INFO] | 2023/03/17 20:41:42 | <- Request: scihub_url=https://sci-hub.ru, source=DoiSource[type=doi, id=doi.org/10.1080/10408398.2023.2184766]\n",
      "[INFO] | 2023/03/17 20:41:42 | -> Response: status_code=200, content_length=5838\n",
      "[WARNING] | 2023/03/17 20:41:42 | Error occurs, task status: extracting_failed, error: No pdf tag was found in the given content with the selector: #pdf\n",
      "[INFO] | 2023/03/17 20:41:42 | Choose scihub url [4]: https://sci-hub.st\n",
      "[INFO] | 2023/03/17 20:41:42 | <- Request: scihub_url=https://sci-hub.st, source=DoiSource[type=doi, id=doi.org/10.1080/10408398.2023.2188564]\n",
      "[INFO] | 2023/03/17 20:41:42 | -> Response: status_code=200, content_length=5838\n",
      "[WARNING] | 2023/03/17 20:41:42 | Error occurs, task status: extracting_failed, error: No pdf tag was found in the given content with the selector: #pdf\n",
      "[INFO] | 2023/03/17 20:41:42 | Choose scihub url [5]: https://sci-hub.se\n",
      "[INFO] | 2023/03/17 20:41:42 | <- Request: scihub_url=https://sci-hub.st, source=DoiSource[type=doi, id=doi.org/10.1080/10408398.2023.2181311]\n",
      "[INFO] | 2023/03/17 20:41:42 | -> Response: status_code=200, content_length=5838\n",
      "[WARNING] | 2023/03/17 20:41:42 | Error occurs, task status: extracting_failed, error: No pdf tag was found in the given content with the selector: #pdf\n",
      "[INFO] | 2023/03/17 20:41:42 | Choose scihub url [5]: https://sci-hub.se\n",
      "[INFO] | 2023/03/17 20:41:42 | <- Request: scihub_url=https://sci-hub.st, source=DoiSource[type=doi, id=doi.org/10.1080/10408398.2023.2184766]\n",
      "[INFO] | 2023/03/17 20:41:42 | -> Response: status_code=200, content_length=5838\n",
      "[WARNING] | 2023/03/17 20:41:42 | Error occurs, task status: extracting_failed, error: No pdf tag was found in the given content with the selector: #pdf\n",
      "[INFO] | 2023/03/17 20:41:42 | Choose scihub url [5]: https://sci-hub.se\n",
      "[INFO] | 2023/03/17 20:41:43 | <- Request: scihub_url=https://sci-hub.se, source=DoiSource[type=doi, id=doi.org/10.1080/10408398.2023.2188564]\n",
      "[INFO] | 2023/03/17 20:41:43 | -> Response: status_code=200, content_length=5838\n",
      "[WARNING] | 2023/03/17 20:41:43 | Error occurs, task status: extracting_failed, error: No pdf tag was found in the given content with the selector: #pdf\n",
      "[ERROR] | 2023/03/17 20:41:43 | Failed to download the paper: https://doi.org/10.1080/10408398.2023.2188564. Please try again.\n"
     ]
    },
    {
     "name": "stdout",
     "output_type": "stream",
     "text": [
      "-------------------------curr:1----------------------------\n",
      "doi: 10.1080/10408398.2023.2188951\n"
     ]
    },
    {
     "name": "stderr",
     "output_type": "stream",
     "text": [
      "[INFO] | 2023/03/17 20:41:43 | Choose scihub url [0]: https://sci-hub.se\n",
      "[INFO] | 2023/03/17 20:41:43 | <- Request: scihub_url=https://sci-hub.se, source=DoiSource[type=doi, id=doi.org/10.1080/10408398.2023.2181311]\n",
      "[INFO] | 2023/03/17 20:41:43 | -> Response: status_code=200, content_length=5838\n",
      "[WARNING] | 2023/03/17 20:41:43 | Error occurs, task status: extracting_failed, error: No pdf tag was found in the given content with the selector: #pdf\n",
      "[ERROR] | 2023/03/17 20:41:43 | Failed to download the paper: https://doi.org/10.1080/10408398.2023.2181311. Please try again.\n"
     ]
    },
    {
     "name": "stdout",
     "output_type": "stream",
     "text": [
      "-------------------------curr:1----------------------------\n",
      "doi: 10.1080/10408398.2023.2181755\n"
     ]
    },
    {
     "name": "stderr",
     "output_type": "stream",
     "text": [
      "[INFO] | 2023/03/17 20:41:43 | Choose scihub url [0]: https://sci-hub.se\n",
      "[INFO] | 2023/03/17 20:41:43 | <- Request: scihub_url=https://sci-hub.se, source=DoiSource[type=doi, id=doi.org/10.1080/10408398.2023.2184766]\n",
      "[INFO] | 2023/03/17 20:41:43 | -> Response: status_code=200, content_length=5838\n",
      "[WARNING] | 2023/03/17 20:41:43 | Error occurs, task status: extracting_failed, error: No pdf tag was found in the given content with the selector: #pdf\n",
      "[ERROR] | 2023/03/17 20:41:43 | Failed to download the paper: https://doi.org/10.1080/10408398.2023.2184766. Please try again.\n"
     ]
    },
    {
     "name": "stdout",
     "output_type": "stream",
     "text": [
      "-------------------------curr:1----------------------------\n",
      "doi: 10.1080/10408398.2023.2185588\n"
     ]
    },
    {
     "name": "stderr",
     "output_type": "stream",
     "text": [
      "[INFO] | 2023/03/17 20:41:43 | Choose scihub url [0]: http://sci-hub.st\n",
      "[INFO] | 2023/03/17 20:41:43 | <- Request: scihub_url=https://sci-hub.se, source=DoiSource[type=doi, id=doi.org/10.1080/10408398.2023.2188951]\n",
      "[INFO] | 2023/03/17 20:41:43 | -> Response: status_code=200, content_length=5838\n",
      "[WARNING] | 2023/03/17 20:41:43 | Error occurs, task status: extracting_failed, error: No pdf tag was found in the given content with the selector: #pdf\n",
      "[INFO] | 2023/03/17 20:41:43 | Choose scihub url [1]: http://sci-hub.st\n",
      "[INFO] | 2023/03/17 20:41:43 | <- Request: scihub_url=https://sci-hub.se, source=DoiSource[type=doi, id=doi.org/10.1080/10408398.2023.2181755]\n",
      "[INFO] | 2023/03/17 20:41:43 | -> Response: status_code=200, content_length=5838\n",
      "[WARNING] | 2023/03/17 20:41:43 | Error occurs, task status: extracting_failed, error: No pdf tag was found in the given content with the selector: #pdf\n",
      "[INFO] | 2023/03/17 20:41:44 | Choose scihub url [1]: http://sci-hub.st\n",
      "[INFO] | 2023/03/17 20:41:44 | <- Request: scihub_url=http://sci-hub.st, source=DoiSource[type=doi, id=doi.org/10.1080/10408398.2023.2185588]\n",
      "[INFO] | 2023/03/17 20:41:44 | -> Response: status_code=200, content_length=5838\n",
      "[WARNING] | 2023/03/17 20:41:44 | Error occurs, task status: extracting_failed, error: No pdf tag was found in the given content with the selector: #pdf\n",
      "[INFO] | 2023/03/17 20:41:44 | Choose scihub url [1]: http://sci-hub.se\n",
      "[INFO] | 2023/03/17 20:41:44 | <- Request: scihub_url=http://sci-hub.st, source=DoiSource[type=doi, id=doi.org/10.1080/10408398.2023.2188951]\n",
      "[INFO] | 2023/03/17 20:41:44 | -> Response: status_code=200, content_length=5838\n",
      "[WARNING] | 2023/03/17 20:41:44 | Error occurs, task status: extracting_failed, error: No pdf tag was found in the given content with the selector: #pdf\n",
      "[INFO] | 2023/03/17 20:41:44 | Choose scihub url [2]: http://sci-hub.se\n",
      "[INFO] | 2023/03/17 20:41:44 | <- Request: scihub_url=http://sci-hub.st, source=DoiSource[type=doi, id=doi.org/10.1080/10408398.2023.2181755]\n",
      "[INFO] | 2023/03/17 20:41:44 | -> Response: status_code=200, content_length=5838\n",
      "[WARNING] | 2023/03/17 20:41:44 | Error occurs, task status: extracting_failed, error: No pdf tag was found in the given content with the selector: #pdf\n",
      "[INFO] | 2023/03/17 20:41:44 | Choose scihub url [2]: http://sci-hub.se\n",
      "[INFO] | 2023/03/17 20:41:45 | <- Request: scihub_url=http://sci-hub.se, source=DoiSource[type=doi, id=doi.org/10.1080/10408398.2023.2185588]\n",
      "[INFO] | 2023/03/17 20:41:45 | -> Response: status_code=200, content_length=5838\n",
      "[WARNING] | 2023/03/17 20:41:45 | Error occurs, task status: extracting_failed, error: No pdf tag was found in the given content with the selector: #pdf\n",
      "[INFO] | 2023/03/17 20:41:45 | Choose scihub url [2]: http://sci-hub.ru\n",
      "[INFO] | 2023/03/17 20:41:45 | <- Request: scihub_url=http://sci-hub.se, source=DoiSource[type=doi, id=doi.org/10.1080/10408398.2023.2188951]\n",
      "[INFO] | 2023/03/17 20:41:45 | -> Response: status_code=200, content_length=5838\n",
      "[WARNING] | 2023/03/17 20:41:45 | Error occurs, task status: extracting_failed, error: No pdf tag was found in the given content with the selector: #pdf\n",
      "[INFO] | 2023/03/17 20:41:45 | Choose scihub url [3]: http://sci-hub.ru\n",
      "[INFO] | 2023/03/17 20:41:45 | <- Request: scihub_url=http://sci-hub.se, source=DoiSource[type=doi, id=doi.org/10.1080/10408398.2023.2181755]\n",
      "[INFO] | 2023/03/17 20:41:45 | -> Response: status_code=200, content_length=5838\n",
      "[WARNING] | 2023/03/17 20:41:45 | Error occurs, task status: extracting_failed, error: No pdf tag was found in the given content with the selector: #pdf\n",
      "[INFO] | 2023/03/17 20:41:45 | Choose scihub url [3]: http://sci-hub.ru\n",
      "[INFO] | 2023/03/17 20:41:45 | <- Request: scihub_url=http://sci-hub.ru, source=DoiSource[type=doi, id=doi.org/10.1080/10408398.2023.2185588]\n",
      "[INFO] | 2023/03/17 20:41:45 | -> Response: status_code=200, content_length=5838\n",
      "[WARNING] | 2023/03/17 20:41:45 | Error occurs, task status: extracting_failed, error: No pdf tag was found in the given content with the selector: #pdf\n",
      "[INFO] | 2023/03/17 20:41:45 | Choose scihub url [3]: https://sci-hub.ru\n",
      "[INFO] | 2023/03/17 20:41:46 | <- Request: scihub_url=http://sci-hub.ru, source=DoiSource[type=doi, id=doi.org/10.1080/10408398.2023.2188951]\n",
      "[INFO] | 2023/03/17 20:41:46 | -> Response: status_code=200, content_length=5838\n",
      "[WARNING] | 2023/03/17 20:41:46 | Error occurs, task status: extracting_failed, error: No pdf tag was found in the given content with the selector: #pdf\n",
      "[INFO] | 2023/03/17 20:41:46 | Choose scihub url [4]: https://sci-hub.ru\n",
      "[INFO] | 2023/03/17 20:41:46 | <- Request: scihub_url=http://sci-hub.ru, source=DoiSource[type=doi, id=doi.org/10.1080/10408398.2023.2181755]\n",
      "[INFO] | 2023/03/17 20:41:46 | -> Response: status_code=200, content_length=5838\n",
      "[WARNING] | 2023/03/17 20:41:46 | Error occurs, task status: extracting_failed, error: No pdf tag was found in the given content with the selector: #pdf\n",
      "[INFO] | 2023/03/17 20:41:46 | Choose scihub url [4]: https://sci-hub.ru\n",
      "[INFO] | 2023/03/17 20:41:46 | <- Request: scihub_url=https://sci-hub.ru, source=DoiSource[type=doi, id=doi.org/10.1080/10408398.2023.2185588]\n",
      "[INFO] | 2023/03/17 20:41:46 | -> Response: status_code=200, content_length=5838\n",
      "[WARNING] | 2023/03/17 20:41:46 | Error occurs, task status: extracting_failed, error: No pdf tag was found in the given content with the selector: #pdf\n",
      "[INFO] | 2023/03/17 20:41:46 | Choose scihub url [4]: https://sci-hub.st\n",
      "[INFO] | 2023/03/17 20:41:46 | <- Request: scihub_url=https://sci-hub.ru, source=DoiSource[type=doi, id=doi.org/10.1080/10408398.2023.2188951]\n",
      "[INFO] | 2023/03/17 20:41:46 | -> Response: status_code=200, content_length=5838\n",
      "[WARNING] | 2023/03/17 20:41:46 | Error occurs, task status: extracting_failed, error: No pdf tag was found in the given content with the selector: #pdf\n",
      "[INFO] | 2023/03/17 20:41:46 | Choose scihub url [5]: https://sci-hub.st\n",
      "[INFO] | 2023/03/17 20:41:46 | <- Request: scihub_url=https://sci-hub.ru, source=DoiSource[type=doi, id=doi.org/10.1080/10408398.2023.2181755]\n",
      "[INFO] | 2023/03/17 20:41:46 | -> Response: status_code=200, content_length=5838\n",
      "[WARNING] | 2023/03/17 20:41:46 | Error occurs, task status: extracting_failed, error: No pdf tag was found in the given content with the selector: #pdf\n",
      "[INFO] | 2023/03/17 20:41:46 | Choose scihub url [5]: https://sci-hub.st\n",
      "[INFO] | 2023/03/17 20:41:47 | <- Request: scihub_url=https://sci-hub.st, source=DoiSource[type=doi, id=doi.org/10.1080/10408398.2023.2185588]\n",
      "[INFO] | 2023/03/17 20:41:47 | -> Response: status_code=200, content_length=5838\n",
      "[WARNING] | 2023/03/17 20:41:47 | Error occurs, task status: extracting_failed, error: No pdf tag was found in the given content with the selector: #pdf\n",
      "[INFO] | 2023/03/17 20:41:47 | Choose scihub url [5]: https://sci-hub.se\n",
      "[INFO] | 2023/03/17 20:41:47 | <- Request: scihub_url=https://sci-hub.st, source=DoiSource[type=doi, id=doi.org/10.1080/10408398.2023.2188951]\n",
      "[INFO] | 2023/03/17 20:41:47 | -> Response: status_code=200, content_length=5838\n",
      "[WARNING] | 2023/03/17 20:41:47 | Error occurs, task status: extracting_failed, error: No pdf tag was found in the given content with the selector: #pdf\n",
      "[ERROR] | 2023/03/17 20:41:47 | Failed to download the paper: https://doi.org/10.1080/10408398.2023.2188951. Please try again.\n"
     ]
    },
    {
     "name": "stdout",
     "output_type": "stream",
     "text": [
      "-------------------------curr:2----------------------------\n",
      "doi: 10.1080/10408398.2023.2187622\n"
     ]
    },
    {
     "name": "stderr",
     "output_type": "stream",
     "text": [
      "[INFO] | 2023/03/17 20:41:47 | <- Request: scihub_url=https://sci-hub.st, source=DoiSource[type=doi, id=doi.org/10.1080/10408398.2023.2181755]\n",
      "[INFO] | 2023/03/17 20:41:47 | Choose scihub url [0]: https://sci-hub.st\n",
      "[INFO] | 2023/03/17 20:41:47 | -> Response: status_code=200, content_length=5838\n",
      "[WARNING] | 2023/03/17 20:41:47 | Error occurs, task status: extracting_failed, error: No pdf tag was found in the given content with the selector: #pdf\n",
      "[ERROR] | 2023/03/17 20:41:47 | Failed to download the paper: https://doi.org/10.1080/10408398.2023.2181755. Please try again.\n"
     ]
    },
    {
     "name": "stdout",
     "output_type": "stream",
     "text": [
      "-------------------------curr:2----------------------------\n",
      "doi: 10.1080/10408398.2023.2180616\n"
     ]
    },
    {
     "name": "stderr",
     "output_type": "stream",
     "text": [
      "[INFO] | 2023/03/17 20:41:47 | Choose scihub url [0]: https://sci-hub.se\n",
      "[INFO] | 2023/03/17 20:41:47 | <- Request: scihub_url=https://sci-hub.se, source=DoiSource[type=doi, id=doi.org/10.1080/10408398.2023.2185588]\n",
      "[INFO] | 2023/03/17 20:41:47 | -> Response: status_code=200, content_length=5838\n",
      "[WARNING] | 2023/03/17 20:41:47 | Error occurs, task status: extracting_failed, error: No pdf tag was found in the given content with the selector: #pdf\n",
      "[ERROR] | 2023/03/17 20:41:47 | Failed to download the paper: https://doi.org/10.1080/10408398.2023.2185588. Please try again.\n"
     ]
    },
    {
     "name": "stdout",
     "output_type": "stream",
     "text": [
      "-------------------------curr:2----------------------------\n",
      "doi: 10.1080/10408398.2023.2185199\n"
     ]
    },
    {
     "name": "stderr",
     "output_type": "stream",
     "text": [
      "[INFO] | 2023/03/17 20:41:47 | Choose scihub url [0]: http://sci-hub.st\n",
      "[INFO] | 2023/03/17 20:41:48 | <- Request: scihub_url=https://sci-hub.st, source=DoiSource[type=doi, id=doi.org/10.1080/10408398.2023.2187622]\n",
      "[INFO] | 2023/03/17 20:41:48 | -> Response: status_code=200, content_length=5838\n",
      "[WARNING] | 2023/03/17 20:41:48 | Error occurs, task status: extracting_failed, error: No pdf tag was found in the given content with the selector: #pdf\n",
      "[INFO] | 2023/03/17 20:41:48 | Choose scihub url [1]: https://sci-hub.se\n",
      "[INFO] | 2023/03/17 20:41:48 | <- Request: scihub_url=https://sci-hub.se, source=DoiSource[type=doi, id=doi.org/10.1080/10408398.2023.2180616]\n",
      "[INFO] | 2023/03/17 20:41:48 | -> Response: status_code=200, content_length=5838\n",
      "[WARNING] | 2023/03/17 20:41:48 | Error occurs, task status: extracting_failed, error: No pdf tag was found in the given content with the selector: #pdf\n",
      "[INFO] | 2023/03/17 20:41:48 | Choose scihub url [1]: http://sci-hub.st\n",
      "[INFO] | 2023/03/17 20:41:48 | <- Request: scihub_url=http://sci-hub.st, source=DoiSource[type=doi, id=doi.org/10.1080/10408398.2023.2185199]\n",
      "[INFO] | 2023/03/17 20:41:48 | -> Response: status_code=200, content_length=5838\n",
      "[WARNING] | 2023/03/17 20:41:48 | Error occurs, task status: extracting_failed, error: No pdf tag was found in the given content with the selector: #pdf\n",
      "[INFO] | 2023/03/17 20:41:48 | Choose scihub url [1]: http://sci-hub.se\n",
      "[INFO] | 2023/03/17 20:41:48 | <- Request: scihub_url=https://sci-hub.se, source=DoiSource[type=doi, id=doi.org/10.1080/10408398.2023.2187622]\n",
      "[INFO] | 2023/03/17 20:41:48 | -> Response: status_code=200, content_length=5838\n",
      "[WARNING] | 2023/03/17 20:41:48 | Error occurs, task status: extracting_failed, error: No pdf tag was found in the given content with the selector: #pdf\n",
      "[INFO] | 2023/03/17 20:41:48 | Choose scihub url [2]: http://sci-hub.st\n",
      "[INFO] | 2023/03/17 20:41:48 | <- Request: scihub_url=http://sci-hub.st, source=DoiSource[type=doi, id=doi.org/10.1080/10408398.2023.2180616]\n",
      "[INFO] | 2023/03/17 20:41:48 | -> Response: status_code=200, content_length=5838\n",
      "[WARNING] | 2023/03/17 20:41:48 | Error occurs, task status: extracting_failed, error: No pdf tag was found in the given content with the selector: #pdf\n",
      "[INFO] | 2023/03/17 20:41:48 | Choose scihub url [2]: http://sci-hub.se\n",
      "[INFO] | 2023/03/17 20:41:49 | <- Request: scihub_url=http://sci-hub.se, source=DoiSource[type=doi, id=doi.org/10.1080/10408398.2023.2185199]\n",
      "[INFO] | 2023/03/17 20:41:49 | -> Response: status_code=200, content_length=5838\n",
      "[WARNING] | 2023/03/17 20:41:49 | Error occurs, task status: extracting_failed, error: No pdf tag was found in the given content with the selector: #pdf\n",
      "[INFO] | 2023/03/17 20:41:49 | Choose scihub url [2]: http://sci-hub.ru\n",
      "[INFO] | 2023/03/17 20:41:49 | <- Request: scihub_url=http://sci-hub.st, source=DoiSource[type=doi, id=doi.org/10.1080/10408398.2023.2187622]\n",
      "[INFO] | 2023/03/17 20:41:49 | -> Response: status_code=200, content_length=5838\n",
      "[WARNING] | 2023/03/17 20:41:49 | Error occurs, task status: extracting_failed, error: No pdf tag was found in the given content with the selector: #pdf\n",
      "[INFO] | 2023/03/17 20:41:49 | Choose scihub url [3]: http://sci-hub.se\n",
      "[INFO] | 2023/03/17 20:41:49 | <- Request: scihub_url=http://sci-hub.se, source=DoiSource[type=doi, id=doi.org/10.1080/10408398.2023.2180616]\n",
      "[INFO] | 2023/03/17 20:41:49 | -> Response: status_code=200, content_length=5838\n",
      "[WARNING] | 2023/03/17 20:41:49 | Error occurs, task status: extracting_failed, error: No pdf tag was found in the given content with the selector: #pdf\n",
      "[INFO] | 2023/03/17 20:41:49 | Choose scihub url [3]: http://sci-hub.ru\n",
      "[INFO] | 2023/03/17 20:41:49 | <- Request: scihub_url=http://sci-hub.ru, source=DoiSource[type=doi, id=doi.org/10.1080/10408398.2023.2185199]\n",
      "[INFO] | 2023/03/17 20:41:49 | -> Response: status_code=200, content_length=5838\n",
      "[WARNING] | 2023/03/17 20:41:49 | Error occurs, task status: extracting_failed, error: No pdf tag was found in the given content with the selector: #pdf\n",
      "[INFO] | 2023/03/17 20:41:49 | Choose scihub url [3]: https://sci-hub.ru\n",
      "[INFO] | 2023/03/17 20:41:50 | <- Request: scihub_url=http://sci-hub.se, source=DoiSource[type=doi, id=doi.org/10.1080/10408398.2023.2187622]\n",
      "[INFO] | 2023/03/17 20:41:50 | -> Response: status_code=200, content_length=5838\n",
      "[WARNING] | 2023/03/17 20:41:50 | Error occurs, task status: extracting_failed, error: No pdf tag was found in the given content with the selector: #pdf\n",
      "[INFO] | 2023/03/17 20:41:50 | Choose scihub url [4]: http://sci-hub.ru\n",
      "[INFO] | 2023/03/17 20:41:50 | <- Request: scihub_url=http://sci-hub.ru, source=DoiSource[type=doi, id=doi.org/10.1080/10408398.2023.2180616]\n",
      "[INFO] | 2023/03/17 20:41:50 | -> Response: status_code=200, content_length=5838\n",
      "[WARNING] | 2023/03/17 20:41:50 | Error occurs, task status: extracting_failed, error: No pdf tag was found in the given content with the selector: #pdf\n",
      "[INFO] | 2023/03/17 20:41:50 | Choose scihub url [4]: https://sci-hub.ru\n",
      "[INFO] | 2023/03/17 20:41:50 | <- Request: scihub_url=https://sci-hub.ru, source=DoiSource[type=doi, id=doi.org/10.1080/10408398.2023.2185199]\n",
      "[INFO] | 2023/03/17 20:41:50 | -> Response: status_code=200, content_length=5838\n",
      "[WARNING] | 2023/03/17 20:41:50 | Error occurs, task status: extracting_failed, error: No pdf tag was found in the given content with the selector: #pdf\n",
      "[INFO] | 2023/03/17 20:41:50 | Choose scihub url [4]: https://sci-hub.st\n",
      "[INFO] | 2023/03/17 20:41:50 | <- Request: scihub_url=http://sci-hub.ru, source=DoiSource[type=doi, id=doi.org/10.1080/10408398.2023.2187622]\n",
      "[INFO] | 2023/03/17 20:41:50 | -> Response: status_code=200, content_length=5838\n",
      "[INFO] | 2023/03/17 20:41:50 | <- Request: scihub_url=https://sci-hub.ru, source=DoiSource[type=doi, id=doi.org/10.1080/10408398.2023.2180616]\n",
      "[WARNING] | 2023/03/17 20:41:50 | Error occurs, task status: extracting_failed, error: No pdf tag was found in the given content with the selector: #pdf\n",
      "[INFO] | 2023/03/17 20:41:50 | -> Response: status_code=200, content_length=5838\n",
      "[INFO] | 2023/03/17 20:41:50 | Choose scihub url [5]: https://sci-hub.ru\n",
      "[WARNING] | 2023/03/17 20:41:50 | Error occurs, task status: extracting_failed, error: No pdf tag was found in the given content with the selector: #pdf\n",
      "[INFO] | 2023/03/17 20:41:50 | Choose scihub url [5]: https://sci-hub.st\n",
      "[INFO] | 2023/03/17 20:41:51 | <- Request: scihub_url=https://sci-hub.st, source=DoiSource[type=doi, id=doi.org/10.1080/10408398.2023.2185199]\n",
      "[INFO] | 2023/03/17 20:41:51 | -> Response: status_code=200, content_length=5838\n",
      "[WARNING] | 2023/03/17 20:41:51 | Error occurs, task status: extracting_failed, error: No pdf tag was found in the given content with the selector: #pdf\n",
      "[INFO] | 2023/03/17 20:41:51 | Choose scihub url [5]: https://sci-hub.se\n",
      "[INFO] | 2023/03/17 20:41:51 | <- Request: scihub_url=https://sci-hub.ru, source=DoiSource[type=doi, id=doi.org/10.1080/10408398.2023.2187622]\n",
      "[INFO] | 2023/03/17 20:41:51 | -> Response: status_code=200, content_length=5838\n",
      "[WARNING] | 2023/03/17 20:41:51 | Error occurs, task status: extracting_failed, error: No pdf tag was found in the given content with the selector: #pdf\n",
      "[ERROR] | 2023/03/17 20:41:51 | Failed to download the paper: https://doi.org/10.1080/10408398.2023.2187622. Please try again.\n"
     ]
    },
    {
     "name": "stdout",
     "output_type": "stream",
     "text": [
      "-------------------------curr:3----------------------------\n",
      "doi: 10.1080/10408398.2023.2186126\n"
     ]
    },
    {
     "name": "stderr",
     "output_type": "stream",
     "text": [
      "[INFO] | 2023/03/17 20:41:51 | Choose scihub url [0]: https://sci-hub.st\n",
      "[INFO] | 2023/03/17 20:41:51 | <- Request: scihub_url=https://sci-hub.st, source=DoiSource[type=doi, id=doi.org/10.1080/10408398.2023.2180616]\n",
      "[INFO] | 2023/03/17 20:41:51 | -> Response: status_code=200, content_length=5838\n",
      "[WARNING] | 2023/03/17 20:41:51 | Error occurs, task status: extracting_failed, error: No pdf tag was found in the given content with the selector: #pdf\n",
      "[ERROR] | 2023/03/17 20:41:51 | Failed to download the paper: https://doi.org/10.1080/10408398.2023.2180616. Please try again.\n"
     ]
    },
    {
     "name": "stdout",
     "output_type": "stream",
     "text": [
      "-------------------------curr:3----------------------------\n",
      "doi: 10.1080/10408398.2023.2177606\n"
     ]
    },
    {
     "name": "stderr",
     "output_type": "stream",
     "text": [
      "[INFO] | 2023/03/17 20:41:51 | Choose scihub url [0]: https://sci-hub.se\n",
      "[INFO] | 2023/03/17 20:41:51 | <- Request: scihub_url=https://sci-hub.se, source=DoiSource[type=doi, id=doi.org/10.1080/10408398.2023.2185199]\n",
      "[INFO] | 2023/03/17 20:41:51 | -> Response: status_code=200, content_length=5838\n",
      "[WARNING] | 2023/03/17 20:41:51 | Error occurs, task status: extracting_failed, error: No pdf tag was found in the given content with the selector: #pdf\n",
      "[ERROR] | 2023/03/17 20:41:51 | Failed to download the paper: https://doi.org/10.1080/10408398.2023.2185199. Please try again.\n"
     ]
    },
    {
     "name": "stdout",
     "output_type": "stream",
     "text": [
      "-------------------------curr:3----------------------------\n",
      "doi: 10.1080/10408398.2023.2184322\n"
     ]
    },
    {
     "name": "stderr",
     "output_type": "stream",
     "text": [
      "[INFO] | 2023/03/17 20:41:51 | Choose scihub url [0]: http://sci-hub.st\n",
      "[INFO] | 2023/03/17 20:41:52 | <- Request: scihub_url=https://sci-hub.st, source=DoiSource[type=doi, id=doi.org/10.1080/10408398.2023.2186126]\n",
      "[INFO] | 2023/03/17 20:41:52 | -> Response: status_code=200, content_length=5838\n",
      "[WARNING] | 2023/03/17 20:41:52 | Error occurs, task status: extracting_failed, error: No pdf tag was found in the given content with the selector: #pdf\n",
      "[INFO] | 2023/03/17 20:41:52 | Choose scihub url [1]: https://sci-hub.se\n",
      "[INFO] | 2023/03/17 20:41:52 | <- Request: scihub_url=https://sci-hub.se, source=DoiSource[type=doi, id=doi.org/10.1080/10408398.2023.2177606]\n",
      "[INFO] | 2023/03/17 20:41:52 | -> Response: status_code=200, content_length=5838\n",
      "[WARNING] | 2023/03/17 20:41:52 | Error occurs, task status: extracting_failed, error: No pdf tag was found in the given content with the selector: #pdf\n",
      "[INFO] | 2023/03/17 20:41:52 | Choose scihub url [1]: http://sci-hub.st\n",
      "[INFO] | 2023/03/17 20:41:52 | <- Request: scihub_url=http://sci-hub.st, source=DoiSource[type=doi, id=doi.org/10.1080/10408398.2023.2184322]\n",
      "[INFO] | 2023/03/17 20:41:52 | -> Response: status_code=200, content_length=5838\n",
      "[WARNING] | 2023/03/17 20:41:52 | Error occurs, task status: extracting_failed, error: No pdf tag was found in the given content with the selector: #pdf\n",
      "[INFO] | 2023/03/17 20:41:52 | Choose scihub url [1]: http://sci-hub.se\n",
      "[INFO] | 2023/03/17 20:41:52 | <- Request: scihub_url=https://sci-hub.se, source=DoiSource[type=doi, id=doi.org/10.1080/10408398.2023.2186126]\n",
      "[INFO] | 2023/03/17 20:41:52 | -> Response: status_code=200, content_length=5838\n",
      "[WARNING] | 2023/03/17 20:41:52 | Error occurs, task status: extracting_failed, error: No pdf tag was found in the given content with the selector: #pdf\n",
      "[INFO] | 2023/03/17 20:41:52 | Choose scihub url [2]: http://sci-hub.st\n",
      "[INFO] | 2023/03/17 20:41:52 | <- Request: scihub_url=http://sci-hub.st, source=DoiSource[type=doi, id=doi.org/10.1080/10408398.2023.2177606]\n",
      "[INFO] | 2023/03/17 20:41:52 | -> Response: status_code=200, content_length=5838\n",
      "[WARNING] | 2023/03/17 20:41:52 | Error occurs, task status: extracting_failed, error: No pdf tag was found in the given content with the selector: #pdf\n",
      "[INFO] | 2023/03/17 20:41:52 | Choose scihub url [2]: http://sci-hub.se\n",
      "[INFO] | 2023/03/17 20:41:53 | <- Request: scihub_url=http://sci-hub.se, source=DoiSource[type=doi, id=doi.org/10.1080/10408398.2023.2184322]\n",
      "[INFO] | 2023/03/17 20:41:53 | -> Response: status_code=200, content_length=5838\n",
      "[WARNING] | 2023/03/17 20:41:53 | Error occurs, task status: extracting_failed, error: No pdf tag was found in the given content with the selector: #pdf\n",
      "[INFO] | 2023/03/17 20:41:53 | Choose scihub url [2]: http://sci-hub.ru\n",
      "[INFO] | 2023/03/17 20:41:53 | <- Request: scihub_url=http://sci-hub.st, source=DoiSource[type=doi, id=doi.org/10.1080/10408398.2023.2186126]\n",
      "[INFO] | 2023/03/17 20:41:53 | -> Response: status_code=200, content_length=5838\n",
      "[WARNING] | 2023/03/17 20:41:53 | Error occurs, task status: extracting_failed, error: No pdf tag was found in the given content with the selector: #pdf\n",
      "[INFO] | 2023/03/17 20:41:53 | Choose scihub url [3]: http://sci-hub.se\n",
      "[INFO] | 2023/03/17 20:41:53 | <- Request: scihub_url=http://sci-hub.se, source=DoiSource[type=doi, id=doi.org/10.1080/10408398.2023.2177606]\n",
      "[INFO] | 2023/03/17 20:41:53 | -> Response: status_code=200, content_length=5838\n",
      "[WARNING] | 2023/03/17 20:41:53 | Error occurs, task status: extracting_failed, error: No pdf tag was found in the given content with the selector: #pdf\n",
      "[INFO] | 2023/03/17 20:41:53 | Choose scihub url [3]: http://sci-hub.ru\n",
      "[INFO] | 2023/03/17 20:41:53 | <- Request: scihub_url=http://sci-hub.ru, source=DoiSource[type=doi, id=doi.org/10.1080/10408398.2023.2184322]\n",
      "[INFO] | 2023/03/17 20:41:53 | -> Response: status_code=200, content_length=5838\n",
      "[WARNING] | 2023/03/17 20:41:53 | Error occurs, task status: extracting_failed, error: No pdf tag was found in the given content with the selector: #pdf\n",
      "[INFO] | 2023/03/17 20:41:53 | Choose scihub url [3]: https://sci-hub.ru\n",
      "[INFO] | 2023/03/17 20:41:54 | <- Request: scihub_url=http://sci-hub.se, source=DoiSource[type=doi, id=doi.org/10.1080/10408398.2023.2186126]\n",
      "[INFO] | 2023/03/17 20:41:54 | -> Response: status_code=200, content_length=5838\n",
      "[WARNING] | 2023/03/17 20:41:54 | Error occurs, task status: extracting_failed, error: No pdf tag was found in the given content with the selector: #pdf\n",
      "[INFO] | 2023/03/17 20:41:54 | Choose scihub url [4]: http://sci-hub.ru\n",
      "[INFO] | 2023/03/17 20:41:54 | <- Request: scihub_url=http://sci-hub.ru, source=DoiSource[type=doi, id=doi.org/10.1080/10408398.2023.2177606]\n",
      "[INFO] | 2023/03/17 20:41:54 | -> Response: status_code=200, content_length=5838\n",
      "[WARNING] | 2023/03/17 20:41:54 | Error occurs, task status: extracting_failed, error: No pdf tag was found in the given content with the selector: #pdf\n",
      "[INFO] | 2023/03/17 20:41:54 | Choose scihub url [4]: https://sci-hub.ru\n",
      "[INFO] | 2023/03/17 20:41:54 | <- Request: scihub_url=https://sci-hub.ru, source=DoiSource[type=doi, id=doi.org/10.1080/10408398.2023.2184322]\n",
      "[INFO] | 2023/03/17 20:41:54 | -> Response: status_code=200, content_length=5838\n",
      "[WARNING] | 2023/03/17 20:41:54 | Error occurs, task status: extracting_failed, error: No pdf tag was found in the given content with the selector: #pdf\n",
      "[INFO] | 2023/03/17 20:41:54 | Choose scihub url [4]: https://sci-hub.st\n",
      "[INFO] | 2023/03/17 20:41:54 | <- Request: scihub_url=http://sci-hub.ru, source=DoiSource[type=doi, id=doi.org/10.1080/10408398.2023.2186126]\n",
      "[INFO] | 2023/03/17 20:41:54 | -> Response: status_code=200, content_length=5838\n",
      "[INFO] | 2023/03/17 20:41:54 | <- Request: scihub_url=https://sci-hub.ru, source=DoiSource[type=doi, id=doi.org/10.1080/10408398.2023.2177606]\n",
      "[INFO] | 2023/03/17 20:41:54 | -> Response: status_code=200, content_length=5838\n",
      "[WARNING] | 2023/03/17 20:41:54 | Error occurs, task status: extracting_failed, error: No pdf tag was found in the given content with the selector: #pdf\n",
      "[INFO] | 2023/03/17 20:41:54 | Choose scihub url [5]: https://sci-hub.ru\n",
      "[WARNING] | 2023/03/17 20:41:54 | Error occurs, task status: extracting_failed, error: No pdf tag was found in the given content with the selector: #pdf\n",
      "[INFO] | 2023/03/17 20:41:54 | Choose scihub url [5]: https://sci-hub.st\n",
      "[INFO] | 2023/03/17 20:41:55 | <- Request: scihub_url=https://sci-hub.st, source=DoiSource[type=doi, id=doi.org/10.1080/10408398.2023.2184322]\n",
      "[INFO] | 2023/03/17 20:41:55 | -> Response: status_code=200, content_length=5838\n",
      "[WARNING] | 2023/03/17 20:41:55 | Error occurs, task status: extracting_failed, error: No pdf tag was found in the given content with the selector: #pdf\n",
      "[INFO] | 2023/03/17 20:41:55 | Choose scihub url [5]: https://sci-hub.se\n",
      "[INFO] | 2023/03/17 20:41:55 | <- Request: scihub_url=https://sci-hub.st, source=DoiSource[type=doi, id=doi.org/10.1080/10408398.2023.2177606]\n",
      "[INFO] | 2023/03/17 20:41:55 | <- Request: scihub_url=https://sci-hub.ru, source=DoiSource[type=doi, id=doi.org/10.1080/10408398.2023.2186126]\n",
      "[INFO] | 2023/03/17 20:41:55 | -> Response: status_code=200, content_length=5838\n",
      "[INFO] | 2023/03/17 20:41:55 | -> Response: status_code=200, content_length=5838\n",
      "[WARNING] | 2023/03/17 20:41:55 | Error occurs, task status: extracting_failed, error: No pdf tag was found in the given content with the selector: #pdf\n",
      "[ERROR] | 2023/03/17 20:41:55 | Failed to download the paper: https://doi.org/10.1080/10408398.2023.2177606. Please try again.\n"
     ]
    },
    {
     "name": "stdout",
     "output_type": "stream",
     "text": [
      "-------------------------curr:4----------------------------"
     ]
    },
    {
     "name": "stderr",
     "output_type": "stream",
     "text": [
      "[WARNING] | 2023/03/17 20:41:55 | Error occurs, task status: extracting_failed, error: No pdf tag was found in the given content with the selector: #pdf\n",
      "[ERROR] | 2023/03/17 20:41:55 | Failed to download the paper: https://doi.org/10.1080/10408398.2023.2186126. Please try again.\n"
     ]
    },
    {
     "name": "stdout",
     "output_type": "stream",
     "text": [
      "\n",
      "-------------------------curr:4----------------------------doi: \n",
      "doi: 10.1080/10408398.2023.2181762\n",
      "10.1080/10408398.2023.2186125\n"
     ]
    },
    {
     "name": "stderr",
     "output_type": "stream",
     "text": [
      "[INFO] | 2023/03/17 20:41:55 | Choose scihub url [0]: https://sci-hub.se\n",
      "[INFO] | 2023/03/17 20:41:55 | Choose scihub url [0]: https://sci-hub.se\n",
      "[INFO] | 2023/03/17 20:41:55 | <- Request: scihub_url=https://sci-hub.se, source=DoiSource[type=doi, id=doi.org/10.1080/10408398.2023.2184322]\n",
      "[INFO] | 2023/03/17 20:41:55 | -> Response: status_code=200, content_length=5838\n",
      "[WARNING] | 2023/03/17 20:41:55 | Error occurs, task status: extracting_failed, error: No pdf tag was found in the given content with the selector: #pdf\n",
      "[ERROR] | 2023/03/17 20:41:55 | Failed to download the paper: https://doi.org/10.1080/10408398.2023.2184322. Please try again.\n"
     ]
    },
    {
     "name": "stdout",
     "output_type": "stream",
     "text": [
      "-------------------------curr:4----------------------------\n",
      "doi: 10.1080/10408398.2023.2184767\n"
     ]
    },
    {
     "name": "stderr",
     "output_type": "stream",
     "text": [
      "[INFO] | 2023/03/17 20:41:55 | Choose scihub url [0]: http://sci-hub.st\n",
      "[INFO] | 2023/03/17 20:41:56 | <- Request: scihub_url=https://sci-hub.se, source=DoiSource[type=doi, id=doi.org/10.1080/10408398.2023.2181762]\n",
      "[INFO] | 2023/03/17 20:41:56 | -> Response: status_code=200, content_length=5838\n",
      "[INFO] | 2023/03/17 20:41:56 | <- Request: scihub_url=https://sci-hub.se, source=DoiSource[type=doi, id=doi.org/10.1080/10408398.2023.2186125]\n",
      "[INFO] | 2023/03/17 20:41:56 | -> Response: status_code=200, content_length=5838\n",
      "[WARNING] | 2023/03/17 20:41:56 | Error occurs, task status: extracting_failed, error: No pdf tag was found in the given content with the selector: #pdf\n",
      "[INFO] | 2023/03/17 20:41:56 | Choose scihub url [1]: http://sci-hub.st\n",
      "[WARNING] | 2023/03/17 20:41:56 | Error occurs, task status: extracting_failed, error: No pdf tag was found in the given content with the selector: #pdf\n",
      "[INFO] | 2023/03/17 20:41:56 | Choose scihub url [1]: http://sci-hub.st\n",
      "[INFO] | 2023/03/17 20:41:56 | <- Request: scihub_url=http://sci-hub.st, source=DoiSource[type=doi, id=doi.org/10.1080/10408398.2023.2184767]\n",
      "[INFO] | 2023/03/17 20:41:56 | -> Response: status_code=200, content_length=5838\n",
      "[WARNING] | 2023/03/17 20:41:56 | Error occurs, task status: extracting_failed, error: No pdf tag was found in the given content with the selector: #pdf\n",
      "[INFO] | 2023/03/17 20:41:56 | Choose scihub url [1]: http://sci-hub.se\n",
      "[INFO] | 2023/03/17 20:41:57 | <- Request: scihub_url=http://sci-hub.st, source=DoiSource[type=doi, id=doi.org/10.1080/10408398.2023.2186125]\n",
      "[INFO] | 2023/03/17 20:41:57 | -> Response: status_code=200, content_length=5838\n",
      "[INFO] | 2023/03/17 20:41:57 | <- Request: scihub_url=http://sci-hub.st, source=DoiSource[type=doi, id=doi.org/10.1080/10408398.2023.2181762]\n",
      "[INFO] | 2023/03/17 20:41:57 | -> Response: status_code=200, content_length=5838\n",
      "[WARNING] | 2023/03/17 20:41:57 | Error occurs, task status: extracting_failed, error: No pdf tag was found in the given content with the selector: #pdf\n",
      "[INFO] | 2023/03/17 20:41:57 | Choose scihub url [2]: http://sci-hub.se\n",
      "[WARNING] | 2023/03/17 20:41:57 | Error occurs, task status: extracting_failed, error: No pdf tag was found in the given content with the selector: #pdf\n",
      "[INFO] | 2023/03/17 20:41:57 | Choose scihub url [2]: http://sci-hub.se\n",
      "[INFO] | 2023/03/17 20:41:57 | <- Request: scihub_url=http://sci-hub.se, source=DoiSource[type=doi, id=doi.org/10.1080/10408398.2023.2184767]\n",
      "[INFO] | 2023/03/17 20:41:57 | -> Response: status_code=200, content_length=5838\n",
      "[WARNING] | 2023/03/17 20:41:57 | Error occurs, task status: extracting_failed, error: No pdf tag was found in the given content with the selector: #pdf\n",
      "[INFO] | 2023/03/17 20:41:57 | Choose scihub url [2]: http://sci-hub.ru\n",
      "[INFO] | 2023/03/17 20:41:57 | <- Request: scihub_url=http://sci-hub.se, source=DoiSource[type=doi, id=doi.org/10.1080/10408398.2023.2181762]\n",
      "[INFO] | 2023/03/17 20:41:57 | -> Response: status_code=200, content_length=5838\n",
      "[INFO] | 2023/03/17 20:41:57 | <- Request: scihub_url=http://sci-hub.se, source=DoiSource[type=doi, id=doi.org/10.1080/10408398.2023.2186125]\n",
      "[INFO] | 2023/03/17 20:41:57 | -> Response: status_code=200, content_length=5838\n",
      "[WARNING] | 2023/03/17 20:41:57 | Error occurs, task status: extracting_failed, error: No pdf tag was found in the given content with the selector: #pdf\n",
      "[INFO] | 2023/03/17 20:41:57 | Choose scihub url [3]: http://sci-hub.ru\n",
      "[WARNING] | 2023/03/17 20:41:57 | Error occurs, task status: extracting_failed, error: No pdf tag was found in the given content with the selector: #pdf\n",
      "[INFO] | 2023/03/17 20:41:57 | Choose scihub url [3]: http://sci-hub.ru\n",
      "[INFO] | 2023/03/17 20:41:58 | <- Request: scihub_url=http://sci-hub.ru, source=DoiSource[type=doi, id=doi.org/10.1080/10408398.2023.2184767]\n",
      "[INFO] | 2023/03/17 20:41:58 | -> Response: status_code=200, content_length=5838\n",
      "[WARNING] | 2023/03/17 20:41:58 | Error occurs, task status: extracting_failed, error: No pdf tag was found in the given content with the selector: #pdf\n",
      "[INFO] | 2023/03/17 20:41:58 | Choose scihub url [3]: https://sci-hub.ru\n",
      "[INFO] | 2023/03/17 20:41:58 | <- Request: scihub_url=https://sci-hub.ru, source=DoiSource[type=doi, id=doi.org/10.1080/10408398.2023.2184767]\n",
      "[INFO] | 2023/03/17 20:41:58 | -> Response: status_code=200, content_length=5838\n",
      "[WARNING] | 2023/03/17 20:41:58 | Error occurs, task status: extracting_failed, error: No pdf tag was found in the given content with the selector: #pdf\n",
      "[INFO] | 2023/03/17 20:41:58 | Choose scihub url [4]: https://sci-hub.st\n",
      "[INFO] | 2023/03/17 20:41:58 | <- Request: scihub_url=http://sci-hub.ru, source=DoiSource[type=doi, id=doi.org/10.1080/10408398.2023.2181762]\n",
      "[INFO] | 2023/03/17 20:41:58 | -> Response: status_code=200, content_length=5838\n",
      "[INFO] | 2023/03/17 20:41:58 | <- Request: scihub_url=http://sci-hub.ru, source=DoiSource[type=doi, id=doi.org/10.1080/10408398.2023.2186125]\n",
      "[INFO] | 2023/03/17 20:41:58 | -> Response: status_code=200, content_length=5838\n",
      "[WARNING] | 2023/03/17 20:41:58 | Error occurs, task status: extracting_failed, error: No pdf tag was found in the given content with the selector: #pdf\n",
      "[INFO] | 2023/03/17 20:41:58 | Choose scihub url [4]: https://sci-hub.ru\n",
      "[WARNING] | 2023/03/17 20:41:58 | Error occurs, task status: extracting_failed, error: No pdf tag was found in the given content with the selector: #pdf\n",
      "[INFO] | 2023/03/17 20:41:58 | Choose scihub url [4]: https://sci-hub.ru\n",
      "[INFO] | 2023/03/17 20:41:59 | <- Request: scihub_url=https://sci-hub.st, source=DoiSource[type=doi, id=doi.org/10.1080/10408398.2023.2184767]\n",
      "[INFO] | 2023/03/17 20:41:59 | -> Response: status_code=200, content_length=5838\n",
      "[WARNING] | 2023/03/17 20:41:59 | Error occurs, task status: extracting_failed, error: No pdf tag was found in the given content with the selector: #pdf\n",
      "[INFO] | 2023/03/17 20:41:59 | Choose scihub url [5]: https://sci-hub.se\n",
      "[INFO] | 2023/03/17 20:41:59 | <- Request: scihub_url=https://sci-hub.ru, source=DoiSource[type=doi, id=doi.org/10.1080/10408398.2023.2181762]\n",
      "[INFO] | 2023/03/17 20:41:59 | -> Response: status_code=200, content_length=5838\n",
      "[INFO] | 2023/03/17 20:41:59 | <- Request: scihub_url=https://sci-hub.ru, source=DoiSource[type=doi, id=doi.org/10.1080/10408398.2023.2186125]\n",
      "[INFO] | 2023/03/17 20:41:59 | -> Response: status_code=200, content_length=5838\n",
      "[WARNING] | 2023/03/17 20:41:59 | Error occurs, task status: extracting_failed, error: No pdf tag was found in the given content with the selector: #pdf\n",
      "[INFO] | 2023/03/17 20:41:59 | Choose scihub url [5]: https://sci-hub.st\n",
      "[WARNING] | 2023/03/17 20:41:59 | Error occurs, task status: extracting_failed, error: No pdf tag was found in the given content with the selector: #pdf\n",
      "[INFO] | 2023/03/17 20:41:59 | Choose scihub url [5]: https://sci-hub.st\n",
      "[INFO] | 2023/03/17 20:41:59 | <- Request: scihub_url=https://sci-hub.se, source=DoiSource[type=doi, id=doi.org/10.1080/10408398.2023.2184767]\n",
      "[INFO] | 2023/03/17 20:41:59 | -> Response: status_code=200, content_length=5838\n",
      "[WARNING] | 2023/03/17 20:41:59 | Error occurs, task status: extracting_failed, error: No pdf tag was found in the given content with the selector: #pdf\n",
      "[ERROR] | 2023/03/17 20:41:59 | Failed to download the paper: https://doi.org/10.1080/10408398.2023.2184767. Please try again.\n"
     ]
    },
    {
     "name": "stdout",
     "output_type": "stream",
     "text": [
      "-------------------------curr:5----------------------------\n",
      "doi: 10.1080/10408398.2023.2183381\n"
     ]
    },
    {
     "name": "stderr",
     "output_type": "stream",
     "text": [
      "[INFO] | 2023/03/17 20:41:59 | Choose scihub url [0]: https://sci-hub.st\n",
      "[INFO] | 2023/03/17 20:41:59 | <- Request: scihub_url=https://sci-hub.st, source=DoiSource[type=doi, id=doi.org/10.1080/10408398.2023.2186125]\n",
      "[INFO] | 2023/03/17 20:41:59 | <- Request: scihub_url=https://sci-hub.st, source=DoiSource[type=doi, id=doi.org/10.1080/10408398.2023.2181762]\n",
      "[INFO] | 2023/03/17 20:41:59 | -> Response: status_code=200, content_length=5838\n",
      "[INFO] | 2023/03/17 20:41:59 | -> Response: status_code=200, content_length=5838\n",
      "[WARNING] | 2023/03/17 20:41:59 | Error occurs, task status: extracting_failed, error: No pdf tag was found in the given content with the selector: #pdf\n",
      "[ERROR] | 2023/03/17 20:41:59 | Failed to download the paper: https://doi.org/10.1080/10408398.2023.2186125. Please try again.\n"
     ]
    },
    {
     "name": "stdout",
     "output_type": "stream",
     "text": [
      "-------------------------curr:5----------------------------\n"
     ]
    },
    {
     "name": "stderr",
     "output_type": "stream",
     "text": [
      "[WARNING] | 2023/03/17 20:41:59 | Error occurs, task status: extracting_failed, error: No pdf tag was found in the given content with the selector: #pdf\n"
     ]
    },
    {
     "name": "stdout",
     "output_type": "stream",
     "text": [
      "doi: "
     ]
    },
    {
     "name": "stderr",
     "output_type": "stream",
     "text": [
      "[ERROR] | 2023/03/17 20:41:59 | Failed to download the paper: https://doi.org/10.1080/10408398.2023.2181762. Please try again.\n"
     ]
    },
    {
     "name": "stdout",
     "output_type": "stream",
     "text": [
      "10.1080/10408398.2023.2185589-------------------------curr:5----------------------------\n",
      "\n",
      "doi: 10.1080/10408398.2023.2177611"
     ]
    },
    {
     "name": "stderr",
     "output_type": "stream",
     "text": [
      "[INFO] | 2023/03/17 20:41:59 | Choose scihub url [0]: http://sci-hub.st\n"
     ]
    },
    {
     "name": "stdout",
     "output_type": "stream",
     "text": [
      "\n"
     ]
    },
    {
     "name": "stderr",
     "output_type": "stream",
     "text": [
      "[INFO] | 2023/03/17 20:41:59 | Choose scihub url [0]: http://sci-hub.st\n",
      "[INFO] | 2023/03/17 20:42:00 | <- Request: scihub_url=https://sci-hub.st, source=DoiSource[type=doi, id=doi.org/10.1080/10408398.2023.2183381]\n",
      "[INFO] | 2023/03/17 20:42:00 | -> Response: status_code=200, content_length=5838\n",
      "[WARNING] | 2023/03/17 20:42:00 | Error occurs, task status: extracting_failed, error: No pdf tag was found in the given content with the selector: #pdf\n",
      "[INFO] | 2023/03/17 20:42:00 | Choose scihub url [1]: http://sci-hub.st\n",
      "[INFO] | 2023/03/17 20:42:00 | <- Request: scihub_url=http://sci-hub.st, source=DoiSource[type=doi, id=doi.org/10.1080/10408398.2023.2177611]\n",
      "[INFO] | 2023/03/17 20:42:00 | -> Response: status_code=200, content_length=5838\n",
      "[WARNING] | 2023/03/17 20:42:00 | Error occurs, task status: extracting_failed, error: No pdf tag was found in the given content with the selector: #pdf\n",
      "[INFO] | 2023/03/17 20:42:00 | Choose scihub url [1]: http://sci-hub.se\n",
      "[INFO] | 2023/03/17 20:42:00 | <- Request: scihub_url=http://sci-hub.st, source=DoiSource[type=doi, id=doi.org/10.1080/10408398.2023.2185589]\n",
      "[INFO] | 2023/03/17 20:42:00 | -> Response: status_code=200, content_length=5838\n",
      "[WARNING] | 2023/03/17 20:42:00 | Error occurs, task status: extracting_failed, error: No pdf tag was found in the given content with the selector: #pdf\n",
      "[INFO] | 2023/03/17 20:42:00 | Choose scihub url [1]: http://sci-hub.se\n",
      "[INFO] | 2023/03/17 20:42:01 | <- Request: scihub_url=http://sci-hub.st, source=DoiSource[type=doi, id=doi.org/10.1080/10408398.2023.2183381]\n",
      "[INFO] | 2023/03/17 20:42:01 | -> Response: status_code=200, content_length=5838\n",
      "[WARNING] | 2023/03/17 20:42:01 | Error occurs, task status: extracting_failed, error: No pdf tag was found in the given content with the selector: #pdf\n",
      "[INFO] | 2023/03/17 20:42:01 | Choose scihub url [2]: http://sci-hub.se\n",
      "[INFO] | 2023/03/17 20:42:01 | <- Request: scihub_url=http://sci-hub.se, source=DoiSource[type=doi, id=doi.org/10.1080/10408398.2023.2177611]\n",
      "[INFO] | 2023/03/17 20:42:01 | -> Response: status_code=200, content_length=5838\n",
      "[WARNING] | 2023/03/17 20:42:01 | Error occurs, task status: extracting_failed, error: No pdf tag was found in the given content with the selector: #pdf\n",
      "[INFO] | 2023/03/17 20:42:01 | Choose scihub url [2]: http://sci-hub.ru\n",
      "[INFO] | 2023/03/17 20:42:01 | <- Request: scihub_url=http://sci-hub.se, source=DoiSource[type=doi, id=doi.org/10.1080/10408398.2023.2185589]\n",
      "[INFO] | 2023/03/17 20:42:01 | -> Response: status_code=200, content_length=5838\n",
      "[WARNING] | 2023/03/17 20:42:01 | Error occurs, task status: extracting_failed, error: No pdf tag was found in the given content with the selector: #pdf\n",
      "[INFO] | 2023/03/17 20:42:01 | Choose scihub url [2]: http://sci-hub.ru\n",
      "[INFO] | 2023/03/17 20:42:02 | <- Request: scihub_url=http://sci-hub.se, source=DoiSource[type=doi, id=doi.org/10.1080/10408398.2023.2183381]\n",
      "[INFO] | 2023/03/17 20:42:02 | -> Response: status_code=200, content_length=5838\n",
      "[WARNING] | 2023/03/17 20:42:02 | Error occurs, task status: extracting_failed, error: No pdf tag was found in the given content with the selector: #pdf\n",
      "[INFO] | 2023/03/17 20:42:02 | Choose scihub url [3]: http://sci-hub.ru\n",
      "[INFO] | 2023/03/17 20:42:02 | <- Request: scihub_url=http://sci-hub.ru, source=DoiSource[type=doi, id=doi.org/10.1080/10408398.2023.2177611]\n",
      "[INFO] | 2023/03/17 20:42:02 | -> Response: status_code=200, content_length=5838\n",
      "[WARNING] | 2023/03/17 20:42:02 | Error occurs, task status: extracting_failed, error: No pdf tag was found in the given content with the selector: #pdf\n",
      "[INFO] | 2023/03/17 20:42:02 | Choose scihub url [3]: https://sci-hub.ru\n",
      "[INFO] | 2023/03/17 20:42:02 | <- Request: scihub_url=http://sci-hub.ru, source=DoiSource[type=doi, id=doi.org/10.1080/10408398.2023.2185589]\n",
      "[INFO] | 2023/03/17 20:42:02 | -> Response: status_code=200, content_length=5838\n",
      "[WARNING] | 2023/03/17 20:42:02 | Error occurs, task status: extracting_failed, error: No pdf tag was found in the given content with the selector: #pdf\n",
      "[INFO] | 2023/03/17 20:42:02 | Choose scihub url [3]: https://sci-hub.ru\n",
      "[INFO] | 2023/03/17 20:42:02 | <- Request: scihub_url=https://sci-hub.ru, source=DoiSource[type=doi, id=doi.org/10.1080/10408398.2023.2177611]\n",
      "[INFO] | 2023/03/17 20:42:02 | -> Response: status_code=200, content_length=5838\n",
      "[WARNING] | 2023/03/17 20:42:02 | Error occurs, task status: extracting_failed, error: No pdf tag was found in the given content with the selector: #pdf\n",
      "[INFO] | 2023/03/17 20:42:02 | Choose scihub url [4]: https://sci-hub.st\n",
      "[INFO] | 2023/03/17 20:42:02 | <- Request: scihub_url=http://sci-hub.ru, source=DoiSource[type=doi, id=doi.org/10.1080/10408398.2023.2183381]\n",
      "[INFO] | 2023/03/17 20:42:02 | -> Response: status_code=200, content_length=5838\n",
      "[WARNING] | 2023/03/17 20:42:02 | Error occurs, task status: extracting_failed, error: No pdf tag was found in the given content with the selector: #pdf\n",
      "[INFO] | 2023/03/17 20:42:02 | Choose scihub url [4]: https://sci-hub.ru\n",
      "[INFO] | 2023/03/17 20:42:03 | <- Request: scihub_url=https://sci-hub.ru, source=DoiSource[type=doi, id=doi.org/10.1080/10408398.2023.2185589]\n",
      "[INFO] | 2023/03/17 20:42:03 | -> Response: status_code=200, content_length=5838\n",
      "[WARNING] | 2023/03/17 20:42:03 | Error occurs, task status: extracting_failed, error: No pdf tag was found in the given content with the selector: #pdf\n",
      "[INFO] | 2023/03/17 20:42:03 | Choose scihub url [4]: https://sci-hub.st\n",
      "[INFO] | 2023/03/17 20:42:03 | <- Request: scihub_url=https://sci-hub.st, source=DoiSource[type=doi, id=doi.org/10.1080/10408398.2023.2177611]\n",
      "[INFO] | 2023/03/17 20:42:03 | -> Response: status_code=200, content_length=5838\n",
      "[WARNING] | 2023/03/17 20:42:03 | Error occurs, task status: extracting_failed, error: No pdf tag was found in the given content with the selector: #pdf\n",
      "[INFO] | 2023/03/17 20:42:03 | Choose scihub url [5]: https://sci-hub.se\n",
      "[INFO] | 2023/03/17 20:42:03 | <- Request: scihub_url=https://sci-hub.ru, source=DoiSource[type=doi, id=doi.org/10.1080/10408398.2023.2183381]\n",
      "[INFO] | 2023/03/17 20:42:03 | -> Response: status_code=200, content_length=5838\n",
      "[WARNING] | 2023/03/17 20:42:03 | Error occurs, task status: extracting_failed, error: No pdf tag was found in the given content with the selector: #pdf\n",
      "[INFO] | 2023/03/17 20:42:03 | Choose scihub url [5]: https://sci-hub.se\n",
      "[INFO] | 2023/03/17 20:42:03 | <- Request: scihub_url=https://sci-hub.st, source=DoiSource[type=doi, id=doi.org/10.1080/10408398.2023.2185589]\n",
      "[INFO] | 2023/03/17 20:42:03 | -> Response: status_code=200, content_length=5838\n",
      "[WARNING] | 2023/03/17 20:42:03 | Error occurs, task status: extracting_failed, error: No pdf tag was found in the given content with the selector: #pdf\n",
      "[INFO] | 2023/03/17 20:42:03 | Choose scihub url [5]: https://sci-hub.se\n",
      "[INFO] | 2023/03/17 20:42:03 | <- Request: scihub_url=https://sci-hub.se, source=DoiSource[type=doi, id=doi.org/10.1080/10408398.2023.2177611]\n",
      "[INFO] | 2023/03/17 20:42:04 | -> Response: status_code=200, content_length=5838\n",
      "[WARNING] | 2023/03/17 20:42:04 | Error occurs, task status: extracting_failed, error: No pdf tag was found in the given content with the selector: #pdf\n",
      "[ERROR] | 2023/03/17 20:42:04 | Failed to download the paper: https://doi.org/10.1080/10408398.2023.2177611. Please try again.\n"
     ]
    },
    {
     "name": "stdout",
     "output_type": "stream",
     "text": [
      "-------------------------curr:6----------------------------\n",
      "doi: 10.1080/10408398.2023.2176817\n"
     ]
    },
    {
     "name": "stderr",
     "output_type": "stream",
     "text": [
      "[INFO] | 2023/03/17 20:42:04 | Choose scihub url [0]: https://sci-hub.se\n",
      "[INFO] | 2023/03/17 20:42:04 | <- Request: scihub_url=https://sci-hub.se, source=DoiSource[type=doi, id=doi.org/10.1080/10408398.2023.2183381]\n",
      "[INFO] | 2023/03/17 20:42:04 | -> Response: status_code=200, content_length=5838\n",
      "[WARNING] | 2023/03/17 20:42:04 | Error occurs, task status: extracting_failed, error: No pdf tag was found in the given content with the selector: #pdf\n",
      "[ERROR] | 2023/03/17 20:42:04 | Failed to download the paper: https://doi.org/10.1080/10408398.2023.2183381. Please try again.\n"
     ]
    },
    {
     "name": "stdout",
     "output_type": "stream",
     "text": [
      "-------------------------curr:6----------------------------\n",
      "doi: 10.1080/10408398.2023.2183935\n"
     ]
    },
    {
     "name": "stderr",
     "output_type": "stream",
     "text": [
      "[INFO] | 2023/03/17 20:42:04 | Choose scihub url [0]: https://sci-hub.se\n",
      "[INFO] | 2023/03/17 20:42:04 | <- Request: scihub_url=https://sci-hub.se, source=DoiSource[type=doi, id=doi.org/10.1080/10408398.2023.2185589]\n",
      "[INFO] | 2023/03/17 20:42:04 | -> Response: status_code=200, content_length=5838\n",
      "[WARNING] | 2023/03/17 20:42:04 | Error occurs, task status: extracting_failed, error: No pdf tag was found in the given content with the selector: #pdf\n",
      "[ERROR] | 2023/03/17 20:42:04 | Failed to download the paper: https://doi.org/10.1080/10408398.2023.2185589. Please try again.\n"
     ]
    },
    {
     "name": "stdout",
     "output_type": "stream",
     "text": [
      "-------------------------curr:6----------------------------\n",
      "doi: 10.1080/10408398.2023.2186121\n"
     ]
    },
    {
     "name": "stderr",
     "output_type": "stream",
     "text": [
      "[INFO] | 2023/03/17 20:42:04 | Choose scihub url [0]: http://sci-hub.st\n",
      "[INFO] | 2023/03/17 20:42:04 | <- Request: scihub_url=https://sci-hub.se, source=DoiSource[type=doi, id=doi.org/10.1080/10408398.2023.2176817]\n",
      "[INFO] | 2023/03/17 20:42:04 | -> Response: status_code=200, content_length=5838\n",
      "[WARNING] | 2023/03/17 20:42:04 | Error occurs, task status: extracting_failed, error: No pdf tag was found in the given content with the selector: #pdf\n",
      "[INFO] | 2023/03/17 20:42:04 | Choose scihub url [1]: http://sci-hub.st\n",
      "[INFO] | 2023/03/17 20:42:04 | <- Request: scihub_url=https://sci-hub.se, source=DoiSource[type=doi, id=doi.org/10.1080/10408398.2023.2183935]\n",
      "[INFO] | 2023/03/17 20:42:04 | -> Response: status_code=200, content_length=5838\n",
      "[WARNING] | 2023/03/17 20:42:04 | Error occurs, task status: extracting_failed, error: No pdf tag was found in the given content with the selector: #pdf\n",
      "[INFO] | 2023/03/17 20:42:04 | Choose scihub url [1]: http://sci-hub.st\n",
      "[INFO] | 2023/03/17 20:42:05 | <- Request: scihub_url=http://sci-hub.st, source=DoiSource[type=doi, id=doi.org/10.1080/10408398.2023.2186121]\n",
      "[INFO] | 2023/03/17 20:42:05 | -> Response: status_code=200, content_length=5838\n",
      "[WARNING] | 2023/03/17 20:42:05 | Error occurs, task status: extracting_failed, error: No pdf tag was found in the given content with the selector: #pdf\n",
      "[INFO] | 2023/03/17 20:42:05 | Choose scihub url [1]: http://sci-hub.se\n",
      "[INFO] | 2023/03/17 20:42:05 | <- Request: scihub_url=http://sci-hub.st, source=DoiSource[type=doi, id=doi.org/10.1080/10408398.2023.2176817]\n",
      "[INFO] | 2023/03/17 20:42:05 | -> Response: status_code=200, content_length=5838\n",
      "[WARNING] | 2023/03/17 20:42:05 | Error occurs, task status: extracting_failed, error: No pdf tag was found in the given content with the selector: #pdf\n",
      "[INFO] | 2023/03/17 20:42:05 | Choose scihub url [2]: http://sci-hub.se\n",
      "[INFO] | 2023/03/17 20:42:05 | <- Request: scihub_url=http://sci-hub.st, source=DoiSource[type=doi, id=doi.org/10.1080/10408398.2023.2183935]\n",
      "[INFO] | 2023/03/17 20:42:05 | -> Response: status_code=200, content_length=5838\n",
      "[WARNING] | 2023/03/17 20:42:05 | Error occurs, task status: extracting_failed, error: No pdf tag was found in the given content with the selector: #pdf\n",
      "[INFO] | 2023/03/17 20:42:05 | Choose scihub url [2]: http://sci-hub.se\n",
      "[INFO] | 2023/03/17 20:42:05 | <- Request: scihub_url=http://sci-hub.se, source=DoiSource[type=doi, id=doi.org/10.1080/10408398.2023.2186121]\n",
      "[INFO] | 2023/03/17 20:42:05 | -> Response: status_code=200, content_length=5838\n",
      "[WARNING] | 2023/03/17 20:42:05 | Error occurs, task status: extracting_failed, error: No pdf tag was found in the given content with the selector: #pdf\n",
      "[INFO] | 2023/03/17 20:42:05 | Choose scihub url [2]: http://sci-hub.ru\n",
      "[INFO] | 2023/03/17 20:42:06 | <- Request: scihub_url=http://sci-hub.se, source=DoiSource[type=doi, id=doi.org/10.1080/10408398.2023.2176817]\n",
      "[INFO] | 2023/03/17 20:42:06 | -> Response: status_code=200, content_length=5838\n",
      "[WARNING] | 2023/03/17 20:42:06 | Error occurs, task status: extracting_failed, error: No pdf tag was found in the given content with the selector: #pdf\n",
      "[INFO] | 2023/03/17 20:42:06 | Choose scihub url [3]: http://sci-hub.ru\n",
      "[INFO] | 2023/03/17 20:42:06 | <- Request: scihub_url=http://sci-hub.se, source=DoiSource[type=doi, id=doi.org/10.1080/10408398.2023.2183935]\n",
      "[INFO] | 2023/03/17 20:42:06 | -> Response: status_code=200, content_length=5838\n",
      "[WARNING] | 2023/03/17 20:42:06 | Error occurs, task status: extracting_failed, error: No pdf tag was found in the given content with the selector: #pdf\n",
      "[INFO] | 2023/03/17 20:42:06 | Choose scihub url [3]: http://sci-hub.ru\n",
      "[INFO] | 2023/03/17 20:42:06 | <- Request: scihub_url=http://sci-hub.ru, source=DoiSource[type=doi, id=doi.org/10.1080/10408398.2023.2186121]\n",
      "[INFO] | 2023/03/17 20:42:06 | -> Response: status_code=200, content_length=5838\n",
      "[WARNING] | 2023/03/17 20:42:06 | Error occurs, task status: extracting_failed, error: No pdf tag was found in the given content with the selector: #pdf\n",
      "[INFO] | 2023/03/17 20:42:06 | Choose scihub url [3]: https://sci-hub.ru\n",
      "[INFO] | 2023/03/17 20:42:06 | <- Request: scihub_url=http://sci-hub.ru, source=DoiSource[type=doi, id=doi.org/10.1080/10408398.2023.2176817]\n",
      "[INFO] | 2023/03/17 20:42:06 | -> Response: status_code=200, content_length=5838\n",
      "[WARNING] | 2023/03/17 20:42:06 | Error occurs, task status: extracting_failed, error: No pdf tag was found in the given content with the selector: #pdf\n",
      "[INFO] | 2023/03/17 20:42:06 | Choose scihub url [4]: https://sci-hub.ru\n",
      "[INFO] | 2023/03/17 20:42:07 | <- Request: scihub_url=http://sci-hub.ru, source=DoiSource[type=doi, id=doi.org/10.1080/10408398.2023.2183935]\n",
      "[INFO] | 2023/03/17 20:42:07 | -> Response: status_code=200, content_length=5838\n",
      "[WARNING] | 2023/03/17 20:42:07 | Error occurs, task status: extracting_failed, error: No pdf tag was found in the given content with the selector: #pdf\n",
      "[INFO] | 2023/03/17 20:42:07 | Choose scihub url [4]: https://sci-hub.ru\n",
      "[INFO] | 2023/03/17 20:42:07 | <- Request: scihub_url=https://sci-hub.ru, source=DoiSource[type=doi, id=doi.org/10.1080/10408398.2023.2186121]\n",
      "[INFO] | 2023/03/17 20:42:07 | -> Response: status_code=200, content_length=5838\n",
      "[WARNING] | 2023/03/17 20:42:07 | Error occurs, task status: extracting_failed, error: No pdf tag was found in the given content with the selector: #pdf\n",
      "[INFO] | 2023/03/17 20:42:07 | Choose scihub url [4]: https://sci-hub.st\n",
      "[INFO] | 2023/03/17 20:42:07 | <- Request: scihub_url=https://sci-hub.ru, source=DoiSource[type=doi, id=doi.org/10.1080/10408398.2023.2176817]\n",
      "[INFO] | 2023/03/17 20:42:07 | -> Response: status_code=200, content_length=5838\n",
      "[WARNING] | 2023/03/17 20:42:07 | Error occurs, task status: extracting_failed, error: No pdf tag was found in the given content with the selector: #pdf\n",
      "[INFO] | 2023/03/17 20:42:07 | Choose scihub url [5]: https://sci-hub.st\n",
      "[INFO] | 2023/03/17 20:42:07 | <- Request: scihub_url=https://sci-hub.ru, source=DoiSource[type=doi, id=doi.org/10.1080/10408398.2023.2183935]\n",
      "[INFO] | 2023/03/17 20:42:07 | -> Response: status_code=200, content_length=5838\n",
      "[WARNING] | 2023/03/17 20:42:07 | Error occurs, task status: extracting_failed, error: No pdf tag was found in the given content with the selector: #pdf\n",
      "[INFO] | 2023/03/17 20:42:07 | Choose scihub url [5]: https://sci-hub.st\n",
      "[INFO] | 2023/03/17 20:42:07 | <- Request: scihub_url=https://sci-hub.st, source=DoiSource[type=doi, id=doi.org/10.1080/10408398.2023.2186121]\n",
      "[INFO] | 2023/03/17 20:42:07 | -> Response: status_code=200, content_length=5838\n",
      "[WARNING] | 2023/03/17 20:42:07 | Error occurs, task status: extracting_failed, error: No pdf tag was found in the given content with the selector: #pdf\n",
      "[INFO] | 2023/03/17 20:42:07 | Choose scihub url [5]: https://sci-hub.se\n",
      "[INFO] | 2023/03/17 20:42:08 | <- Request: scihub_url=https://sci-hub.st, source=DoiSource[type=doi, id=doi.org/10.1080/10408398.2023.2176817]\n",
      "[INFO] | 2023/03/17 20:42:08 | -> Response: status_code=200, content_length=5838\n",
      "[WARNING] | 2023/03/17 20:42:08 | Error occurs, task status: extracting_failed, error: No pdf tag was found in the given content with the selector: #pdf\n",
      "[ERROR] | 2023/03/17 20:42:08 | Failed to download the paper: https://doi.org/10.1080/10408398.2023.2176817. Please try again.\n"
     ]
    },
    {
     "name": "stdout",
     "output_type": "stream",
     "text": [
      "-------------------------curr:7----------------------------\n",
      "doi: 10.1080/10408398.2023.2179969\n"
     ]
    },
    {
     "name": "stderr",
     "output_type": "stream",
     "text": [
      "[INFO] | 2023/03/17 20:42:08 | Choose scihub url [0]: https://sci-hub.st\n",
      "[INFO] | 2023/03/17 20:42:08 | <- Request: scihub_url=https://sci-hub.st, source=DoiSource[type=doi, id=doi.org/10.1080/10408398.2023.2183935]\n",
      "[INFO] | 2023/03/17 20:42:08 | -> Response: status_code=200, content_length=5838\n",
      "[WARNING] | 2023/03/17 20:42:08 | Error occurs, task status: extracting_failed, error: No pdf tag was found in the given content with the selector: #pdf\n",
      "[ERROR] | 2023/03/17 20:42:08 | Failed to download the paper: https://doi.org/10.1080/10408398.2023.2183935. Please try again.\n"
     ]
    },
    {
     "name": "stdout",
     "output_type": "stream",
     "text": [
      "-------------------------curr:7----------------------------\n",
      "doi: 10.1080/10408398.2023.2183380\n"
     ]
    },
    {
     "name": "stderr",
     "output_type": "stream",
     "text": [
      "[INFO] | 2023/03/17 20:42:08 | Choose scihub url [0]: https://sci-hub.se\n",
      "[INFO] | 2023/03/17 20:42:08 | <- Request: scihub_url=https://sci-hub.se, source=DoiSource[type=doi, id=doi.org/10.1080/10408398.2023.2186121]\n",
      "[INFO] | 2023/03/17 20:42:08 | -> Response: status_code=200, content_length=5838\n",
      "[WARNING] | 2023/03/17 20:42:08 | Error occurs, task status: extracting_failed, error: No pdf tag was found in the given content with the selector: #pdf\n",
      "[ERROR] | 2023/03/17 20:42:08 | Failed to download the paper: https://doi.org/10.1080/10408398.2023.2186121. Please try again.\n"
     ]
    },
    {
     "name": "stdout",
     "output_type": "stream",
     "text": [
      "-------------------------curr:7----------------------------\n",
      "doi: 10.1080/10408398.2023.2185766\n"
     ]
    },
    {
     "name": "stderr",
     "output_type": "stream",
     "text": [
      "[INFO] | 2023/03/17 20:42:08 | Choose scihub url [0]: http://sci-hub.st\n",
      "[INFO] | 2023/03/17 20:42:08 | <- Request: scihub_url=https://sci-hub.st, source=DoiSource[type=doi, id=doi.org/10.1080/10408398.2023.2179969]\n",
      "[INFO] | 2023/03/17 20:42:08 | -> Response: status_code=200, content_length=5838\n",
      "[INFO] | 2023/03/17 20:42:08 | <- Request: scihub_url=https://sci-hub.se, source=DoiSource[type=doi, id=doi.org/10.1080/10408398.2023.2183380]\n",
      "[INFO] | 2023/03/17 20:42:08 | -> Response: status_code=200, content_length=5838\n",
      "[WARNING] | 2023/03/17 20:42:08 | Error occurs, task status: extracting_failed, error: No pdf tag was found in the given content with the selector: #pdf\n",
      "[INFO] | 2023/03/17 20:42:08 | Choose scihub url [1]: https://sci-hub.se\n",
      "[WARNING] | 2023/03/17 20:42:08 | Error occurs, task status: extracting_failed, error: No pdf tag was found in the given content with the selector: #pdf\n",
      "[INFO] | 2023/03/17 20:42:08 | Choose scihub url [1]: http://sci-hub.st\n",
      "[INFO] | 2023/03/17 20:42:09 | <- Request: scihub_url=http://sci-hub.st, source=DoiSource[type=doi, id=doi.org/10.1080/10408398.2023.2185766]\n",
      "[INFO] | 2023/03/17 20:42:09 | -> Response: status_code=200, content_length=5838\n",
      "[WARNING] | 2023/03/17 20:42:09 | Error occurs, task status: extracting_failed, error: No pdf tag was found in the given content with the selector: #pdf\n",
      "[INFO] | 2023/03/17 20:42:09 | Choose scihub url [1]: http://sci-hub.se\n",
      "[INFO] | 2023/03/17 20:42:09 | <- Request: scihub_url=https://sci-hub.se, source=DoiSource[type=doi, id=doi.org/10.1080/10408398.2023.2179969]\n",
      "[INFO] | 2023/03/17 20:42:09 | -> Response: status_code=200, content_length=5838\n",
      "[WARNING] | 2023/03/17 20:42:09 | Error occurs, task status: extracting_failed, error: No pdf tag was found in the given content with the selector: #pdf\n",
      "[INFO] | 2023/03/17 20:42:09 | Choose scihub url [2]: http://sci-hub.st\n",
      "[INFO] | 2023/03/17 20:42:09 | <- Request: scihub_url=http://sci-hub.st, source=DoiSource[type=doi, id=doi.org/10.1080/10408398.2023.2183380]\n",
      "[INFO] | 2023/03/17 20:42:09 | -> Response: status_code=200, content_length=5838\n",
      "[WARNING] | 2023/03/17 20:42:09 | Error occurs, task status: extracting_failed, error: No pdf tag was found in the given content with the selector: #pdf\n",
      "[INFO] | 2023/03/17 20:42:09 | Choose scihub url [2]: http://sci-hub.se\n",
      "[INFO] | 2023/03/17 20:42:10 | <- Request: scihub_url=http://sci-hub.st, source=DoiSource[type=doi, id=doi.org/10.1080/10408398.2023.2179969]\n",
      "[INFO] | 2023/03/17 20:42:10 | <- Request: scihub_url=http://sci-hub.se, source=DoiSource[type=doi, id=doi.org/10.1080/10408398.2023.2185766]\n",
      "[INFO] | 2023/03/17 20:42:10 | -> Response: status_code=200, content_length=5838\n",
      "[INFO] | 2023/03/17 20:42:10 | -> Response: status_code=200, content_length=5838\n",
      "[WARNING] | 2023/03/17 20:42:10 | Error occurs, task status: extracting_failed, error: No pdf tag was found in the given content with the selector: #pdf\n",
      "[INFO] | 2023/03/17 20:42:10 | Choose scihub url [3]: http://sci-hub.se\n",
      "[WARNING] | 2023/03/17 20:42:10 | Error occurs, task status: extracting_failed, error: No pdf tag was found in the given content with the selector: #pdf\n",
      "[INFO] | 2023/03/17 20:42:10 | Choose scihub url [2]: http://sci-hub.ru\n",
      "[INFO] | 2023/03/17 20:42:10 | <- Request: scihub_url=http://sci-hub.se, source=DoiSource[type=doi, id=doi.org/10.1080/10408398.2023.2183380]\n",
      "[INFO] | 2023/03/17 20:42:10 | -> Response: status_code=200, content_length=5838\n",
      "[WARNING] | 2023/03/17 20:42:10 | Error occurs, task status: extracting_failed, error: No pdf tag was found in the given content with the selector: #pdf\n",
      "[INFO] | 2023/03/17 20:42:10 | Choose scihub url [3]: http://sci-hub.ru\n",
      "[INFO] | 2023/03/17 20:42:11 | <- Request: scihub_url=http://sci-hub.ru, source=DoiSource[type=doi, id=doi.org/10.1080/10408398.2023.2185766]\n",
      "[INFO] | 2023/03/17 20:42:11 | -> Response: status_code=200, content_length=5838\n",
      "[WARNING] | 2023/03/17 20:42:11 | Error occurs, task status: extracting_failed, error: No pdf tag was found in the given content with the selector: #pdf\n",
      "[INFO] | 2023/03/17 20:42:11 | Choose scihub url [3]: https://sci-hub.ru\n",
      "[INFO] | 2023/03/17 20:42:11 | <- Request: scihub_url=http://sci-hub.se, source=DoiSource[type=doi, id=doi.org/10.1080/10408398.2023.2179969]\n",
      "[INFO] | 2023/03/17 20:42:11 | -> Response: status_code=200, content_length=5838\n",
      "[WARNING] | 2023/03/17 20:42:11 | Error occurs, task status: extracting_failed, error: No pdf tag was found in the given content with the selector: #pdf\n",
      "[INFO] | 2023/03/17 20:42:11 | Choose scihub url [4]: http://sci-hub.ru\n",
      "[INFO] | 2023/03/17 20:42:11 | <- Request: scihub_url=http://sci-hub.ru, source=DoiSource[type=doi, id=doi.org/10.1080/10408398.2023.2183380]\n",
      "[INFO] | 2023/03/17 20:42:11 | -> Response: status_code=200, content_length=5838\n",
      "[WARNING] | 2023/03/17 20:42:11 | Error occurs, task status: extracting_failed, error: No pdf tag was found in the given content with the selector: #pdf\n",
      "[INFO] | 2023/03/17 20:42:11 | Choose scihub url [4]: https://sci-hub.ru\n",
      "[INFO] | 2023/03/17 20:42:11 | <- Request: scihub_url=https://sci-hub.ru, source=DoiSource[type=doi, id=doi.org/10.1080/10408398.2023.2185766]\n",
      "[INFO] | 2023/03/17 20:42:11 | -> Response: status_code=200, content_length=5838\n",
      "[WARNING] | 2023/03/17 20:42:11 | Error occurs, task status: extracting_failed, error: No pdf tag was found in the given content with the selector: #pdf\n",
      "[INFO] | 2023/03/17 20:42:11 | Choose scihub url [4]: https://sci-hub.st\n",
      "[INFO] | 2023/03/17 20:42:12 | <- Request: scihub_url=http://sci-hub.ru, source=DoiSource[type=doi, id=doi.org/10.1080/10408398.2023.2179969]\n",
      "[INFO] | 2023/03/17 20:42:12 | -> Response: status_code=200, content_length=5838\n",
      "[WARNING] | 2023/03/17 20:42:12 | Error occurs, task status: extracting_failed, error: No pdf tag was found in the given content with the selector: #pdf\n",
      "[INFO] | 2023/03/17 20:42:12 | Choose scihub url [5]: https://sci-hub.ru\n",
      "[INFO] | 2023/03/17 20:42:12 | <- Request: scihub_url=https://sci-hub.ru, source=DoiSource[type=doi, id=doi.org/10.1080/10408398.2023.2183380]\n",
      "[INFO] | 2023/03/17 20:42:12 | -> Response: status_code=200, content_length=5838\n",
      "[WARNING] | 2023/03/17 20:42:12 | Error occurs, task status: extracting_failed, error: No pdf tag was found in the given content with the selector: #pdf\n",
      "[INFO] | 2023/03/17 20:42:12 | Choose scihub url [5]: https://sci-hub.st\n",
      "[INFO] | 2023/03/17 20:42:12 | <- Request: scihub_url=https://sci-hub.st, source=DoiSource[type=doi, id=doi.org/10.1080/10408398.2023.2185766]\n",
      "[INFO] | 2023/03/17 20:42:12 | -> Response: status_code=200, content_length=5838\n",
      "[WARNING] | 2023/03/17 20:42:12 | Error occurs, task status: extracting_failed, error: No pdf tag was found in the given content with the selector: #pdf\n",
      "[INFO] | 2023/03/17 20:42:12 | Choose scihub url [5]: https://sci-hub.se\n",
      "[INFO] | 2023/03/17 20:42:12 | <- Request: scihub_url=https://sci-hub.ru, source=DoiSource[type=doi, id=doi.org/10.1080/10408398.2023.2179969]\n",
      "[INFO] | 2023/03/17 20:42:12 | -> Response: status_code=200, content_length=5838\n",
      "[WARNING] | 2023/03/17 20:42:12 | Error occurs, task status: extracting_failed, error: No pdf tag was found in the given content with the selector: #pdf\n",
      "[ERROR] | 2023/03/17 20:42:12 | Failed to download the paper: https://doi.org/10.1080/10408398.2023.2179969. Please try again.\n"
     ]
    },
    {
     "name": "stdout",
     "output_type": "stream",
     "text": [
      "-------------------------curr:8----------------------------\n",
      "doi: 10.1080/10408398.2023.2176464\n"
     ]
    },
    {
     "name": "stderr",
     "output_type": "stream",
     "text": [
      "[INFO] | 2023/03/17 20:42:12 | Choose scihub url [0]: https://sci-hub.st\n",
      "[INFO] | 2023/03/17 20:42:12 | <- Request: scihub_url=https://sci-hub.st, source=DoiSource[type=doi, id=doi.org/10.1080/10408398.2023.2183380]\n",
      "[INFO] | 2023/03/17 20:42:12 | -> Response: status_code=200, content_length=5838\n",
      "[WARNING] | 2023/03/17 20:42:12 | Error occurs, task status: extracting_failed, error: No pdf tag was found in the given content with the selector: #pdf\n",
      "[ERROR] | 2023/03/17 20:42:12 | Failed to download the paper: https://doi.org/10.1080/10408398.2023.2183380. Please try again.\n"
     ]
    },
    {
     "name": "stdout",
     "output_type": "stream",
     "text": [
      "-------------------------curr:8----------------------------\n",
      "doi: 10.1080/10408398.2023.2183382\n"
     ]
    },
    {
     "name": "stderr",
     "output_type": "stream",
     "text": [
      "[INFO] | 2023/03/17 20:42:12 | Choose scihub url [0]: https://sci-hub.se\n",
      "[INFO] | 2023/03/17 20:42:12 | <- Request: scihub_url=https://sci-hub.se, source=DoiSource[type=doi, id=doi.org/10.1080/10408398.2023.2185766]\n",
      "[INFO] | 2023/03/17 20:42:12 | -> Response: status_code=200, content_length=5838\n",
      "[WARNING] | 2023/03/17 20:42:12 | Error occurs, task status: extracting_failed, error: No pdf tag was found in the given content with the selector: #pdf\n",
      "[ERROR] | 2023/03/17 20:42:12 | Failed to download the paper: https://doi.org/10.1080/10408398.2023.2185766. Please try again.\n"
     ]
    },
    {
     "name": "stdout",
     "output_type": "stream",
     "text": [
      "-------------------------curr:8----------------------------\n",
      "doi: 10.1080/10408398.2023.2184323\n"
     ]
    },
    {
     "name": "stderr",
     "output_type": "stream",
     "text": [
      "[INFO] | 2023/03/17 20:42:12 | Choose scihub url [0]: http://sci-hub.st\n",
      "[INFO] | 2023/03/17 20:42:13 | <- Request: scihub_url=https://sci-hub.st, source=DoiSource[type=doi, id=doi.org/10.1080/10408398.2023.2176464]\n",
      "[INFO] | 2023/03/17 20:42:13 | -> Response: status_code=200, content_length=5838\n",
      "[WARNING] | 2023/03/17 20:42:13 | Error occurs, task status: extracting_failed, error: No pdf tag was found in the given content with the selector: #pdf\n",
      "[INFO] | 2023/03/17 20:42:13 | Choose scihub url [1]: https://sci-hub.se\n",
      "[INFO] | 2023/03/17 20:42:13 | <- Request: scihub_url=https://sci-hub.se, source=DoiSource[type=doi, id=doi.org/10.1080/10408398.2023.2183382]\n",
      "[INFO] | 2023/03/17 20:42:13 | -> Response: status_code=200, content_length=5838\n",
      "[WARNING] | 2023/03/17 20:42:13 | Error occurs, task status: extracting_failed, error: No pdf tag was found in the given content with the selector: #pdf\n",
      "[INFO] | 2023/03/17 20:42:13 | Choose scihub url [1]: http://sci-hub.st\n",
      "[INFO] | 2023/03/17 20:42:13 | <- Request: scihub_url=http://sci-hub.st, source=DoiSource[type=doi, id=doi.org/10.1080/10408398.2023.2184323]\n",
      "[INFO] | 2023/03/17 20:42:13 | -> Response: status_code=200, content_length=5838\n",
      "[WARNING] | 2023/03/17 20:42:13 | Error occurs, task status: extracting_failed, error: No pdf tag was found in the given content with the selector: #pdf\n",
      "[INFO] | 2023/03/17 20:42:13 | Choose scihub url [1]: http://sci-hub.se\n",
      "[INFO] | 2023/03/17 20:42:13 | <- Request: scihub_url=https://sci-hub.se, source=DoiSource[type=doi, id=doi.org/10.1080/10408398.2023.2176464]\n",
      "[INFO] | 2023/03/17 20:42:13 | -> Response: status_code=200, content_length=5838\n",
      "[WARNING] | 2023/03/17 20:42:13 | Error occurs, task status: extracting_failed, error: No pdf tag was found in the given content with the selector: #pdf\n",
      "[INFO] | 2023/03/17 20:42:13 | Choose scihub url [2]: http://sci-hub.st\n",
      "[INFO] | 2023/03/17 20:42:14 | <- Request: scihub_url=http://sci-hub.st, source=DoiSource[type=doi, id=doi.org/10.1080/10408398.2023.2183382]\n",
      "[INFO] | 2023/03/17 20:42:14 | -> Response: status_code=200, content_length=5838\n",
      "[WARNING] | 2023/03/17 20:42:14 | Error occurs, task status: extracting_failed, error: No pdf tag was found in the given content with the selector: #pdf\n",
      "[INFO] | 2023/03/17 20:42:14 | Choose scihub url [2]: http://sci-hub.se\n",
      "[INFO] | 2023/03/17 20:42:14 | <- Request: scihub_url=http://sci-hub.st, source=DoiSource[type=doi, id=doi.org/10.1080/10408398.2023.2176464]\n",
      "[INFO] | 2023/03/17 20:42:14 | -> Response: status_code=200, content_length=5838\n",
      "[WARNING] | 2023/03/17 20:42:14 | Error occurs, task status: extracting_failed, error: No pdf tag was found in the given content with the selector: #pdf\n",
      "[INFO] | 2023/03/17 20:42:14 | Choose scihub url [3]: http://sci-hub.se\n",
      "[INFO] | 2023/03/17 20:42:14 | <- Request: scihub_url=http://sci-hub.se, source=DoiSource[type=doi, id=doi.org/10.1080/10408398.2023.2184323]\n",
      "[INFO] | 2023/03/17 20:42:14 | -> Response: status_code=200, content_length=5838\n",
      "[WARNING] | 2023/03/17 20:42:14 | Error occurs, task status: extracting_failed, error: No pdf tag was found in the given content with the selector: #pdf\n",
      "[INFO] | 2023/03/17 20:42:14 | Choose scihub url [2]: http://sci-hub.ru\n",
      "[INFO] | 2023/03/17 20:42:14 | <- Request: scihub_url=http://sci-hub.se, source=DoiSource[type=doi, id=doi.org/10.1080/10408398.2023.2183382]\n",
      "[INFO] | 2023/03/17 20:42:14 | -> Response: status_code=200, content_length=5838\n",
      "[WARNING] | 2023/03/17 20:42:14 | Error occurs, task status: extracting_failed, error: No pdf tag was found in the given content with the selector: #pdf\n",
      "[INFO] | 2023/03/17 20:42:14 | Choose scihub url [3]: http://sci-hub.ru\n",
      "[INFO] | 2023/03/17 20:42:15 | <- Request: scihub_url=http://sci-hub.se, source=DoiSource[type=doi, id=doi.org/10.1080/10408398.2023.2176464]\n",
      "[INFO] | 2023/03/17 20:42:15 | -> Response: status_code=200, content_length=5838\n",
      "[WARNING] | 2023/03/17 20:42:15 | Error occurs, task status: extracting_failed, error: No pdf tag was found in the given content with the selector: #pdf\n",
      "[INFO] | 2023/03/17 20:42:15 | Choose scihub url [4]: http://sci-hub.ru\n",
      "[INFO] | 2023/03/17 20:42:15 | <- Request: scihub_url=http://sci-hub.ru, source=DoiSource[type=doi, id=doi.org/10.1080/10408398.2023.2184323]\n",
      "[INFO] | 2023/03/17 20:42:15 | -> Response: status_code=200, content_length=5838\n",
      "[WARNING] | 2023/03/17 20:42:15 | Error occurs, task status: extracting_failed, error: No pdf tag was found in the given content with the selector: #pdf\n",
      "[INFO] | 2023/03/17 20:42:15 | Choose scihub url [3]: https://sci-hub.ru\n",
      "[INFO] | 2023/03/17 20:42:15 | <- Request: scihub_url=http://sci-hub.ru, source=DoiSource[type=doi, id=doi.org/10.1080/10408398.2023.2183382]\n",
      "[INFO] | 2023/03/17 20:42:15 | -> Response: status_code=200, content_length=5838\n",
      "[WARNING] | 2023/03/17 20:42:15 | Error occurs, task status: extracting_failed, error: No pdf tag was found in the given content with the selector: #pdf\n",
      "[INFO] | 2023/03/17 20:42:15 | Choose scihub url [4]: https://sci-hub.ru\n",
      "[INFO] | 2023/03/17 20:42:15 | <- Request: scihub_url=https://sci-hub.ru, source=DoiSource[type=doi, id=doi.org/10.1080/10408398.2023.2184323]\n",
      "[INFO] | 2023/03/17 20:42:15 | -> Response: status_code=200, content_length=5838\n",
      "[WARNING] | 2023/03/17 20:42:15 | Error occurs, task status: extracting_failed, error: No pdf tag was found in the given content with the selector: #pdf\n",
      "[INFO] | 2023/03/17 20:42:15 | Choose scihub url [4]: https://sci-hub.st\n",
      "[INFO] | 2023/03/17 20:42:16 | <- Request: scihub_url=http://sci-hub.ru, source=DoiSource[type=doi, id=doi.org/10.1080/10408398.2023.2176464]\n",
      "[INFO] | 2023/03/17 20:42:16 | -> Response: status_code=200, content_length=5838\n",
      "[WARNING] | 2023/03/17 20:42:16 | Error occurs, task status: extracting_failed, error: No pdf tag was found in the given content with the selector: #pdf\n",
      "[INFO] | 2023/03/17 20:42:16 | Choose scihub url [5]: https://sci-hub.ru\n",
      "[INFO] | 2023/03/17 20:42:16 | <- Request: scihub_url=https://sci-hub.ru, source=DoiSource[type=doi, id=doi.org/10.1080/10408398.2023.2183382]\n",
      "[INFO] | 2023/03/17 20:42:16 | -> Response: status_code=200, content_length=5838\n",
      "[WARNING] | 2023/03/17 20:42:16 | Error occurs, task status: extracting_failed, error: No pdf tag was found in the given content with the selector: #pdf\n",
      "[INFO] | 2023/03/17 20:42:16 | Choose scihub url [5]: https://sci-hub.st\n",
      "[INFO] | 2023/03/17 20:42:16 | <- Request: scihub_url=https://sci-hub.st, source=DoiSource[type=doi, id=doi.org/10.1080/10408398.2023.2184323]\n",
      "[INFO] | 2023/03/17 20:42:16 | -> Response: status_code=200, content_length=5838\n",
      "[WARNING] | 2023/03/17 20:42:16 | Error occurs, task status: extracting_failed, error: No pdf tag was found in the given content with the selector: #pdf\n",
      "[INFO] | 2023/03/17 20:42:16 | Choose scihub url [5]: https://sci-hub.se\n",
      "[INFO] | 2023/03/17 20:42:16 | <- Request: scihub_url=https://sci-hub.ru, source=DoiSource[type=doi, id=doi.org/10.1080/10408398.2023.2176464]\n",
      "[INFO] | 2023/03/17 20:42:16 | -> Response: status_code=200, content_length=5838\n",
      "[WARNING] | 2023/03/17 20:42:16 | Error occurs, task status: extracting_failed, error: No pdf tag was found in the given content with the selector: #pdf\n",
      "[ERROR] | 2023/03/17 20:42:16 | Failed to download the paper: https://doi.org/10.1080/10408398.2023.2176464. Please try again.\n"
     ]
    },
    {
     "name": "stdout",
     "output_type": "stream",
     "text": [
      "-------------------------curr:9----------------------------\n",
      "doi: 10.1080/10408398.2023.2181760\n"
     ]
    },
    {
     "name": "stderr",
     "output_type": "stream",
     "text": [
      "[INFO] | 2023/03/17 20:42:16 | Choose scihub url [0]: https://sci-hub.st\n",
      "[INFO] | 2023/03/17 20:42:16 | <- Request: scihub_url=https://sci-hub.st, source=DoiSource[type=doi, id=doi.org/10.1080/10408398.2023.2183382]\n",
      "[INFO] | 2023/03/17 20:42:16 | -> Response: status_code=200, content_length=5838\n",
      "[WARNING] | 2023/03/17 20:42:16 | Error occurs, task status: extracting_failed, error: No pdf tag was found in the given content with the selector: #pdf\n",
      "[ERROR] | 2023/03/17 20:42:16 | Failed to download the paper: https://doi.org/10.1080/10408398.2023.2183382. Please try again.\n"
     ]
    },
    {
     "name": "stdout",
     "output_type": "stream",
     "text": [
      "-------------------------curr:9----------------------------\n",
      "doi: 10.1080/10408398.2023.2181761\n"
     ]
    },
    {
     "name": "stderr",
     "output_type": "stream",
     "text": [
      "[INFO] | 2023/03/17 20:42:16 | Choose scihub url [0]: https://sci-hub.se\n",
      "[INFO] | 2023/03/17 20:42:16 | <- Request: scihub_url=https://sci-hub.se, source=DoiSource[type=doi, id=doi.org/10.1080/10408398.2023.2184323]\n",
      "[INFO] | 2023/03/17 20:42:16 | -> Response: status_code=200, content_length=5838\n",
      "[WARNING] | 2023/03/17 20:42:16 | Error occurs, task status: extracting_failed, error: No pdf tag was found in the given content with the selector: #pdf\n",
      "[ERROR] | 2023/03/17 20:42:16 | Failed to download the paper: https://doi.org/10.1080/10408398.2023.2184323. Please try again.\n"
     ]
    },
    {
     "name": "stdout",
     "output_type": "stream",
     "text": [
      "-------------------------curr:9----------------------------\n",
      "doi: 10.1080/10408398.2023.2185201\n"
     ]
    },
    {
     "name": "stderr",
     "output_type": "stream",
     "text": [
      "[INFO] | 2023/03/17 20:42:17 | Choose scihub url [0]: http://sci-hub.st\n",
      "[INFO] | 2023/03/17 20:42:17 | <- Request: scihub_url=https://sci-hub.st, source=DoiSource[type=doi, id=doi.org/10.1080/10408398.2023.2181760]\n",
      "[INFO] | 2023/03/17 20:42:17 | -> Response: status_code=200, content_length=5838\n",
      "[WARNING] | 2023/03/17 20:42:17 | Error occurs, task status: extracting_failed, error: No pdf tag was found in the given content with the selector: #pdf\n",
      "[INFO] | 2023/03/17 20:42:17 | Choose scihub url [1]: https://sci-hub.se\n",
      "[INFO] | 2023/03/17 20:42:17 | <- Request: scihub_url=https://sci-hub.se, source=DoiSource[type=doi, id=doi.org/10.1080/10408398.2023.2181761]\n",
      "[INFO] | 2023/03/17 20:42:17 | -> Response: status_code=200, content_length=5838\n",
      "[WARNING] | 2023/03/17 20:42:17 | Error occurs, task status: extracting_failed, error: No pdf tag was found in the given content with the selector: #pdf\n",
      "[INFO] | 2023/03/17 20:42:17 | Choose scihub url [1]: http://sci-hub.st\n",
      "[INFO] | 2023/03/17 20:42:17 | <- Request: scihub_url=http://sci-hub.st, source=DoiSource[type=doi, id=doi.org/10.1080/10408398.2023.2185201]\n",
      "[INFO] | 2023/03/17 20:42:17 | -> Response: status_code=200, content_length=5838\n",
      "[WARNING] | 2023/03/17 20:42:17 | Error occurs, task status: extracting_failed, error: No pdf tag was found in the given content with the selector: #pdf\n",
      "[INFO] | 2023/03/17 20:42:17 | Choose scihub url [1]: http://sci-hub.se\n",
      "[INFO] | 2023/03/17 20:42:17 | <- Request: scihub_url=https://sci-hub.se, source=DoiSource[type=doi, id=doi.org/10.1080/10408398.2023.2181760]\n",
      "[INFO] | 2023/03/17 20:42:17 | -> Response: status_code=200, content_length=5838\n",
      "[WARNING] | 2023/03/17 20:42:17 | Error occurs, task status: extracting_failed, error: No pdf tag was found in the given content with the selector: #pdf\n",
      "[INFO] | 2023/03/17 20:42:17 | Choose scihub url [2]: http://sci-hub.st\n",
      "[INFO] | 2023/03/17 20:42:18 | <- Request: scihub_url=http://sci-hub.st, source=DoiSource[type=doi, id=doi.org/10.1080/10408398.2023.2181761]\n",
      "[INFO] | 2023/03/17 20:42:18 | -> Response: status_code=200, content_length=5838\n",
      "[WARNING] | 2023/03/17 20:42:18 | Error occurs, task status: extracting_failed, error: No pdf tag was found in the given content with the selector: #pdf\n",
      "[INFO] | 2023/03/17 20:42:18 | Choose scihub url [2]: http://sci-hub.se\n",
      "[INFO] | 2023/03/17 20:42:18 | <- Request: scihub_url=http://sci-hub.se, source=DoiSource[type=doi, id=doi.org/10.1080/10408398.2023.2185201]\n",
      "[INFO] | 2023/03/17 20:42:18 | -> Response: status_code=200, content_length=5838\n",
      "[WARNING] | 2023/03/17 20:42:18 | Error occurs, task status: extracting_failed, error: No pdf tag was found in the given content with the selector: #pdf\n",
      "[INFO] | 2023/03/17 20:42:18 | Choose scihub url [2]: http://sci-hub.ru\n",
      "[INFO] | 2023/03/17 20:42:18 | <- Request: scihub_url=http://sci-hub.st, source=DoiSource[type=doi, id=doi.org/10.1080/10408398.2023.2181760]\n",
      "[INFO] | 2023/03/17 20:42:18 | -> Response: status_code=200, content_length=5838\n",
      "[WARNING] | 2023/03/17 20:42:18 | Error occurs, task status: extracting_failed, error: No pdf tag was found in the given content with the selector: #pdf\n",
      "[INFO] | 2023/03/17 20:42:18 | Choose scihub url [3]: http://sci-hub.se\n",
      "[INFO] | 2023/03/17 20:42:18 | <- Request: scihub_url=http://sci-hub.se, source=DoiSource[type=doi, id=doi.org/10.1080/10408398.2023.2181761]\n",
      "[INFO] | 2023/03/17 20:42:18 | -> Response: status_code=200, content_length=5838\n",
      "[WARNING] | 2023/03/17 20:42:18 | Error occurs, task status: extracting_failed, error: No pdf tag was found in the given content with the selector: #pdf\n",
      "[INFO] | 2023/03/17 20:42:18 | Choose scihub url [3]: http://sci-hub.ru\n",
      "[INFO] | 2023/03/17 20:42:19 | <- Request: scihub_url=http://sci-hub.ru, source=DoiSource[type=doi, id=doi.org/10.1080/10408398.2023.2185201]\n",
      "[INFO] | 2023/03/17 20:42:19 | -> Response: status_code=200, content_length=5838\n",
      "[WARNING] | 2023/03/17 20:42:19 | Error occurs, task status: extracting_failed, error: No pdf tag was found in the given content with the selector: #pdf\n",
      "[INFO] | 2023/03/17 20:42:19 | Choose scihub url [3]: https://sci-hub.ru\n",
      "[INFO] | 2023/03/17 20:42:19 | <- Request: scihub_url=http://sci-hub.se, source=DoiSource[type=doi, id=doi.org/10.1080/10408398.2023.2181760]\n",
      "[INFO] | 2023/03/17 20:42:19 | -> Response: status_code=200, content_length=5838\n",
      "[WARNING] | 2023/03/17 20:42:19 | Error occurs, task status: extracting_failed, error: No pdf tag was found in the given content with the selector: #pdf\n",
      "[INFO] | 2023/03/17 20:42:19 | Choose scihub url [4]: http://sci-hub.ru\n",
      "[INFO] | 2023/03/17 20:42:19 | <- Request: scihub_url=http://sci-hub.ru, source=DoiSource[type=doi, id=doi.org/10.1080/10408398.2023.2181761]\n",
      "[INFO] | 2023/03/17 20:42:19 | -> Response: status_code=200, content_length=5838\n",
      "[WARNING] | 2023/03/17 20:42:19 | Error occurs, task status: extracting_failed, error: No pdf tag was found in the given content with the selector: #pdf\n",
      "[INFO] | 2023/03/17 20:42:19 | Choose scihub url [4]: https://sci-hub.ru\n",
      "[INFO] | 2023/03/17 20:42:19 | <- Request: scihub_url=https://sci-hub.ru, source=DoiSource[type=doi, id=doi.org/10.1080/10408398.2023.2185201]\n",
      "[INFO] | 2023/03/17 20:42:19 | -> Response: status_code=200, content_length=5838\n",
      "[WARNING] | 2023/03/17 20:42:19 | Error occurs, task status: extracting_failed, error: No pdf tag was found in the given content with the selector: #pdf\n",
      "[INFO] | 2023/03/17 20:42:19 | Choose scihub url [4]: https://sci-hub.st\n",
      "[INFO] | 2023/03/17 20:42:20 | <- Request: scihub_url=http://sci-hub.ru, source=DoiSource[type=doi, id=doi.org/10.1080/10408398.2023.2181760]\n",
      "[INFO] | 2023/03/17 20:42:20 | -> Response: status_code=200, content_length=5838\n",
      "[WARNING] | 2023/03/17 20:42:20 | Error occurs, task status: extracting_failed, error: No pdf tag was found in the given content with the selector: #pdf\n",
      "[INFO] | 2023/03/17 20:42:20 | Choose scihub url [5]: https://sci-hub.ru\n",
      "[INFO] | 2023/03/17 20:42:20 | <- Request: scihub_url=https://sci-hub.ru, source=DoiSource[type=doi, id=doi.org/10.1080/10408398.2023.2181761]\n",
      "[INFO] | 2023/03/17 20:42:20 | -> Response: status_code=200, content_length=5838\n",
      "[WARNING] | 2023/03/17 20:42:20 | Error occurs, task status: extracting_failed, error: No pdf tag was found in the given content with the selector: #pdf\n",
      "[INFO] | 2023/03/17 20:42:20 | Choose scihub url [5]: https://sci-hub.st\n",
      "[INFO] | 2023/03/17 20:42:20 | <- Request: scihub_url=https://sci-hub.st, source=DoiSource[type=doi, id=doi.org/10.1080/10408398.2023.2185201]\n",
      "[INFO] | 2023/03/17 20:42:20 | -> Response: status_code=200, content_length=5838\n",
      "[WARNING] | 2023/03/17 20:42:20 | Error occurs, task status: extracting_failed, error: No pdf tag was found in the given content with the selector: #pdf\n",
      "[INFO] | 2023/03/17 20:42:20 | Choose scihub url [5]: https://sci-hub.se\n",
      "[INFO] | 2023/03/17 20:42:20 | <- Request: scihub_url=https://sci-hub.ru, source=DoiSource[type=doi, id=doi.org/10.1080/10408398.2023.2181760]\n",
      "[INFO] | 2023/03/17 20:42:20 | -> Response: status_code=200, content_length=5838\n",
      "[WARNING] | 2023/03/17 20:42:20 | Error occurs, task status: extracting_failed, error: No pdf tag was found in the given content with the selector: #pdf\n",
      "[ERROR] | 2023/03/17 20:42:20 | Failed to download the paper: https://doi.org/10.1080/10408398.2023.2181760. Please try again.\n",
      "[INFO] | 2023/03/17 20:42:20 | <- Request: scihub_url=https://sci-hub.st, source=DoiSource[type=doi, id=doi.org/10.1080/10408398.2023.2181761]\n",
      "[INFO] | 2023/03/17 20:42:20 | -> Response: status_code=200, content_length=5838\n",
      "[WARNING] | 2023/03/17 20:42:20 | Error occurs, task status: extracting_failed, error: No pdf tag was found in the given content with the selector: #pdf\n",
      "[ERROR] | 2023/03/17 20:42:20 | Failed to download the paper: https://doi.org/10.1080/10408398.2023.2181761. Please try again.\n",
      "[INFO] | 2023/03/17 20:42:20 | <- Request: scihub_url=https://sci-hub.se, source=DoiSource[type=doi, id=doi.org/10.1080/10408398.2023.2185201]\n",
      "[INFO] | 2023/03/17 20:42:20 | -> Response: status_code=200, content_length=5838\n",
      "[WARNING] | 2023/03/17 20:42:20 | Error occurs, task status: extracting_failed, error: No pdf tag was found in the given content with the selector: #pdf\n",
      "[ERROR] | 2023/03/17 20:42:20 | Failed to download the paper: https://doi.org/10.1080/10408398.2023.2185201. Please try again.\n"
     ]
    }
   ],
   "source": [
    "def foo(first_last):\n",
    "\tprint(\"foo\", first_last[0], first_last[1])\n",
    "\tdf_all = pd.read_pickle(\"./data_nutrition/new_df.pickle\")\n",
    "\n",
    "\tdf_down = df_all[first_last[0]:first_last[1]]\n",
    "\ttried = []\n",
    "\tcurr = 1\n",
    "\tfor doi in df_down['doi']:\n",
    "\t\tprint(\"-------------------------curr:{curr}----------------------------\".format(curr=curr))\n",
    "\t\tprint(\"doi:\", doi)\n",
    "\t\tpaper = f\"https://doi.org/{doi}\"\n",
    "\t\tpaper_type = \"doi\"\n",
    "\t\tout = f'./data_nutrition/pdf_new/{doi.replace(\"/\", \"_\")}.pdf'\n",
    "\t\tscihub_download(paper, paper_type=paper_type, out=out)\n",
    "\t\tif curr%10 == 0:\n",
    "\t\t\ttried.append(doi)\n",
    "\t\t\tpd.DataFrame(tried).to_excel(f\"{first_last[0]}_{first_last[1]}.xlsx\", index=False)\n",
    "\t\tcurr += 1\n",
    "\t\t\n",
    "\n",
    "def pool_handler():\n",
    "\tp=Pool(3)\n",
    "\tp.map(foo, [(0,1000), (1000,2000), (2000,3000)])\n",
    "\n",
    "if __name__ == '__main__':\n",
    "\tpool_handler()"
   ]
  },
  {
   "cell_type": "code",
   "execution_count": null,
   "metadata": {},
   "outputs": [],
   "source": []
  }
 ],
 "metadata": {
  "kernelspec": {
   "display_name": "server",
   "language": "python",
   "name": "python3"
  },
  "language_info": {
   "codemirror_mode": {
    "name": "ipython",
    "version": 3
   },
   "file_extension": ".py",
   "mimetype": "text/x-python",
   "name": "python",
   "nbconvert_exporter": "python",
   "pygments_lexer": "ipython3",
   "version": "3.8.16"
  },
  "orig_nbformat": 4
 },
 "nbformat": 4,
 "nbformat_minor": 2
}
